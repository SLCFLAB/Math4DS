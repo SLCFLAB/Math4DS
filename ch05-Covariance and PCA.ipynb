{
 "cells": [
  {
   "cell_type": "markdown",
   "metadata": {},
   "source": [
    "#### 코드 참조 \n",
    "[1] https://github.com/rickiepark/machine-learning-with-python-cookbook\n",
    "[2] https://docs.scipy.org/doc/scipy/reference/tutorial/linalg.html \n",
    "[3] https://github.com/mikexcohen/LinAlgBook/blob/main/python\n",
    "[4] https://docs.sympy.org/latest/tutorial/matrices.html\n",
    "[5] Dr. Jaewook Lee's Lecture Notes"
   ]
  },
  {
   "cell_type": "markdown",
   "metadata": {},
   "source": [
    "## 5장 Covariance and PCA"
   ]
  },
  {
   "cell_type": "markdown",
   "metadata": {},
   "source": [
    "## 5.1 공분산(Covariance matrices)"
   ]
  },
  {
   "cell_type": "code",
   "execution_count": 1,
   "metadata": {},
   "outputs": [
    {
     "name": "stdout",
     "output_type": "stream",
     "text": [
      "[[ 0. -0. -0.  0.]\n",
      " [-0.  0.  0.  0.]\n",
      " [-0.  0.  0.  0.]\n",
      " [ 0.  0.  0.  0.]]\n",
      " \n",
      "[[ 0.  0. -0.  0.]\n",
      " [-0.  0. -0.  0.]\n",
      " [-0. -0. -0.  0.]\n",
      " [ 0.  0. -0. -0.]]\n"
     ]
    }
   ],
   "source": [
    "## import libraries for the entire chapter\n",
    "import numpy as np\n",
    "# create data\n",
    "n = 200\n",
    "X = np.random.randn(n,4)\n",
    "\n",
    "# mean-center\n",
    "X = X-np.mean(X,axis=0) \n",
    "\n",
    "# covariance\n",
    "covM = X.T@X / (n-1) \n",
    "\n",
    "# standard deviations matrix\n",
    "stdM = np.linalg.inv( np.diag(np.std(X,axis=0,ddof=1)) )\n",
    "\n",
    "# \"manual\" correlation matrix\n",
    "corM = stdM@ X.T@X @stdM / (n-1) \n",
    "\n",
    "# compare ours against numpy's\n",
    "print(np.round(covM-np.cov(X.T),3)), print(' ')\n",
    "print(np.round(corM-np.corrcoef(X.T),3))"
   ]
  },
  {
   "cell_type": "markdown",
   "metadata": {},
   "source": [
    "## 5.2 주성분 분석(Principal components analysis)"
   ]
  },
  {
   "cell_type": "code",
   "execution_count": 3,
   "metadata": {},
   "outputs": [],
   "source": [
    "## import libraries for the entire chapter\n",
    "import numpy as np\n",
    "import matplotlib.pyplot as plt"
   ]
  },
  {
   "cell_type": "code",
   "execution_count": 4,
   "metadata": {},
   "outputs": [
    {
     "data": {
      "image/png": "[encoded data removed]",
      "text/plain": [
       "<Figure size 360x360 with 1 Axes>"
      ]
     },
     "metadata": {
      "needs_background": "light"
     },
     "output_type": "display_data"
    }
   ],
   "source": [
    "# create data\n",
    "N = 1000\n",
    "h = np.linspace(150,190,N) + np.random.randn(N)*5\n",
    "w = h*.7 - 50 + np.random.randn(N)*10\n",
    "\n",
    "# covariance\n",
    "X = np.vstack((h,w)).T\n",
    "X = X-np.mean(X,axis=0)\n",
    "C = X.T@X / (len(h)-1)\n",
    "\n",
    "# PCA\n",
    "eigvals,V = np.linalg.eig(C)\n",
    "i = np.argsort(eigvals)[::-1]\n",
    "V = V[:,i]\n",
    "eigvals = eigvals[i]\n",
    "eigvals = 100*eigvals/np.sum(eigvals)\n",
    "scores = X@V # not used, but useful code\n",
    "\n",
    "# plot data with PCs\n",
    "fig = plt.figure(figsize=(5,5))\n",
    "plt.plot(X[:,0],X[:,1],'ko')\n",
    "plt.plot([0,V[0,0]*45],[0,V[1,0]*45],'r')\n",
    "plt.plot([0,V[0,1]*25],[0,V[1,1]*25],'r')\n",
    "plt.xlabel('Height'), plt.ylabel('Weight')\n",
    "plt.axis([-50,50,-50,50])\n",
    "plt.show()"
   ]
  },
  {
   "cell_type": "code",
   "execution_count": 6,
   "metadata": {},
   "outputs": [
    {
     "data": {
      "text/plain": [
       "array([82.29219329, 17.70780671])"
      ]
     },
     "execution_count": 6,
     "metadata": {},
     "output_type": "execute_result"
    }
   ],
   "source": [
    "# re-mean-center\n",
    "X = X-np.mean(X,axis=0)\n",
    "\n",
    "# SVD\n",
    "U,s,Vv = np.linalg.svd(X) # Vv == V\n",
    "scores = X@Vv.T\n",
    "\n",
    "# convert to percent variance\n",
    "s = s**2 / (len(X)-1)\n",
    "s = 100*s/sum(s) # s == eigvals\n",
    "s"
   ]
  },
  {
   "cell_type": "code",
   "execution_count": null,
   "metadata": {},
   "outputs": [],
   "source": []
  }
 ],
 "metadata": {
  "kernelspec": {
   "display_name": "Python 3",
   "language": "python",
   "name": "python3"
  },
  "language_info": {
   "codemirror_mode": {
    "name": "ipython",
    "version": 3
   },
   "file_extension": ".py",
   "mimetype": "text/x-python",
   "name": "python",
   "nbconvert_exporter": "python",
   "pygments_lexer": "ipython3",
   "version": "3.8.8"
  }
 },
 "nbformat": 4,
 "nbformat_minor": 2
}
