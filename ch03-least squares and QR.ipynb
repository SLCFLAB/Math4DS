{
 "cells": [
  {
   "cell_type": "markdown",
   "metadata": {},
   "source": [
    "#### 코드 참조 \n",
    "[1] https://github.com/rickiepark/machine-learning-with-python-cookbook\n",
    "[2] https://docs.scipy.org/doc/scipy/reference/tutorial/linalg.html \n",
    "[3] https://github.com/mikexcohen/LinAlgBook/blob/main/python\n",
    "[4] https://docs.sympy.org/latest/tutorial/matrices.html\n",
    "[5] Dr. Jaewook Lee's Lecture Notes"
   ]
  },
  {
   "cell_type": "markdown",
   "metadata": {},
   "source": [
    "## 3장 최소 좌승법과 QR 분해"
   ]
  },
  {
   "cell_type": "markdown",
   "metadata": {},
   "source": [
    "## 3.1 그람슈미트 직교화(GS orthogonalization)"
   ]
  },
  {
   "cell_type": "code",
   "execution_count": 9,
   "metadata": {},
   "outputs": [],
   "source": [
    "## import libraries for the entire chapter\n",
    "import numpy as np\n",
    "# create the matrix \n",
    "m = 4\n",
    "n = 4\n",
    "A = np.random.randn(m,n)\n",
    "\n",
    "# initialize\n",
    "Q = np.zeros((m,n))\n",
    "\n",
    "\n",
    "# the GS algo\n",
    "for i in range(n):\n",
    "    \n",
    "    # initialize\n",
    "    Q[:,i] = A[:,i]\n",
    "    \n",
    "    # orthogonalize\n",
    "    a = A[:,i] # convenience\n",
    "    for j in range(i): # only to earlier cols\n",
    "        q = Q[:,j] # convenience\n",
    "        Q[:,i]=Q[:,i]-np.dot(a,q)/np.dot(q,q)*q\n",
    "    \n",
    "    # normalize\n",
    "    Q[:,i] = Q[:,i] / np.linalg.norm(Q[:,i])\n"
   ]
  },
  {
   "cell_type": "code",
   "execution_count": 10,
   "metadata": {},
   "outputs": [
    {
     "data": {
      "text/plain": [
       "array([[ 1.57577254e+00,  5.55111512e-17,  8.73430926e-01,\n",
       "        -8.55962370e-01],\n",
       "       [-8.19690949e-01,  5.55111512e-17, -2.93560047e-01,\n",
       "        -1.71469812e+00],\n",
       "       [-8.01316416e-01, -5.55111512e-17,  1.65025072e+00,\n",
       "         3.32440313e-01],\n",
       "       [-4.50488231e-01,  1.11022302e-16,  6.53921612e-01,\n",
       "        -4.65426920e-01]])"
      ]
     },
     "execution_count": 10,
     "metadata": {},
     "output_type": "execute_result"
    }
   ],
   "source": [
    "# \"real\" QR decomposition for comparison\n",
    "Q2,R = np.linalg.qr(A)\n",
    "\n",
    "\n",
    "# note the possible sign differences.\n",
    "# seemingly non-zero columns will be 0 when adding\n",
    "Q-Q2"
   ]
  },
  {
   "cell_type": "code",
   "execution_count": 4,
   "metadata": {},
   "outputs": [],
   "source": [
    "import numpy as np\n",
    "from scipy import linalg\n",
    "import matplotlib.pyplot as plt"
   ]
  },
  {
   "cell_type": "code",
   "execution_count": 7,
   "metadata": {},
   "outputs": [
    {
     "data": {
      "text/plain": [
       "array([ 1,  2,  3,  4,  5,  6,  7,  8,  9, 10])"
      ]
     },
     "execution_count": 7,
     "metadata": {},
     "output_type": "execute_result"
    }
   ],
   "source": [
    "c1, c2 = 5.0, 2.0\n",
    "i = np.r_[1:11]\n",
    "i"
   ]
  },
  {
   "cell_type": "code",
   "execution_count": 119,
   "metadata": {},
   "outputs": [],
   "source": [
    "xi = 0.1*i\n",
    "yi = c1*np.exp(-xi) + c2*xi\n",
    "zi = yi + 0.05 * np.max(yi) * np.random.randn(len(yi))\n",
    "A = np.c_[np.exp(-xi)[:, np.newaxis], xi[:, np.newaxis]]\n",
    "c, resid, rank, sigma = linalg.lstsq(A, zi)"
   ]
  },
  {
   "cell_type": "code",
   "execution_count": 120,
   "metadata": {},
   "outputs": [
    {
     "data": {
      "image/png": "[encoded data removed]",
      "text/plain": [
       "<Figure size 432x288 with 1 Axes>"
      ]
     },
     "metadata": {
      "needs_background": "light"
     },
     "output_type": "display_data"
    }
   ],
   "source": [
    "xi2 = np.r_[0.1:1.0:100j]\n",
    "yi2 = c[0]*np.exp(-xi2) + c[1]*xi2\n",
    "plt.plot(xi,zi,'x',xi2,yi2)\n",
    "plt.axis([0,1.1,3.0,5.5])\n",
    "plt.xlabel('$x_i$')\n",
    "plt.title('Data fitting with linalg.lstsq')\n",
    "plt.show()"
   ]
  },
  {
   "cell_type": "code",
   "execution_count": 121,
   "metadata": {},
   "outputs": [
    {
     "data": {
      "text/plain": [
       "True"
      ]
     },
     "execution_count": 121,
     "metadata": {},
     "output_type": "execute_result"
    }
   ],
   "source": [
    "q, r = linalg.qr(A)\n",
    "np.allclose(A, np.dot(q, r))"
   ]
  },
  {
   "cell_type": "code",
   "execution_count": 130,
   "metadata": {},
   "outputs": [
    {
     "data": {
      "text/plain": [
       "((10, 2), (10, 10), (10, 2))"
      ]
     },
     "execution_count": 130,
     "metadata": {},
     "output_type": "execute_result"
    }
   ],
   "source": [
    "A.shape, q.shape, r.shape"
   ]
  },
  {
   "cell_type": "code",
   "execution_count": 123,
   "metadata": {},
   "outputs": [
    {
     "data": {
      "text/plain": [
       "True"
      ]
     },
     "execution_count": 123,
     "metadata": {},
     "output_type": "execute_result"
    }
   ],
   "source": [
    "# either both Q and R (‘full’, default), only R (‘r’) or \n",
    "# both Q and R but computed in economy-size (‘economic’, see Notes)\n",
    "r2 = linalg.qr(A, mode='r')\n",
    "np.allclose(r, r2)"
   ]
  },
  {
   "cell_type": "code",
   "execution_count": 125,
   "metadata": {},
   "outputs": [
    {
     "data": {
      "text/plain": [
       "((10, 2), (2, 2))"
      ]
     },
     "execution_count": 125,
     "metadata": {},
     "output_type": "execute_result"
    }
   ],
   "source": [
    "q3, r3 = linalg.qr(A, mode='economic')\n",
    "q3.shape, r3.shape"
   ]
  },
  {
   "cell_type": "code",
   "execution_count": 131,
   "metadata": {},
   "outputs": [
    {
     "data": {
      "text/plain": [
       "array([-12.56956849,   2.61279847])"
      ]
     },
     "execution_count": 131,
     "metadata": {},
     "output_type": "execute_result"
    }
   ],
   "source": [
    "q3.T@ zi"
   ]
  },
  {
   "cell_type": "code",
   "execution_count": 133,
   "metadata": {},
   "outputs": [
    {
     "data": {
      "text/plain": [
       "(array([4.96165066, 1.93854873]), array([4.96165066, 1.93854873]))"
      ]
     },
     "execution_count": 133,
     "metadata": {},
     "output_type": "execute_result"
    }
   ],
   "source": [
    "x=np.linalg.solve(r3, q3.T@ zi)\n",
    "x, c"
   ]
  },
  {
   "cell_type": "markdown",
   "metadata": {},
   "source": [
    "## 3.2 최소좌승법 예제"
   ]
  },
  {
   "cell_type": "code",
   "execution_count": 13,
   "metadata": {},
   "outputs": [],
   "source": [
    "## import libraries for the entire chapter\n",
    "import numpy as np\n",
    "import matplotlib.pyplot as plt"
   ]
  },
  {
   "cell_type": "code",
   "execution_count": 14,
   "metadata": {},
   "outputs": [
    {
     "name": "stderr",
     "output_type": "stream",
     "text": [
      "<ipython-input-14-bfea51dbda64>:11: FutureWarning: `rcond` parameter will change to the default of machine precision times ``max(M, N)`` where M and N are the input matrix dimensions.\n",
      "To use the future default and silence this warning we advise to pass `rcond=None`, to keep using the old, explicitly pass `rcond=-1`.\n",
      "  beta = np.linalg.lstsq(X,y)[0]\n",
      "<ipython-input-14-bfea51dbda64>:14: RuntimeWarning: divide by zero encountered in true_divide\n",
      "  betaScaled = beta/np.std(X,axis=0,ddof=1)\n"
     ]
    }
   ],
   "source": [
    "# load the data\n",
    "data = np.loadtxt(fname='widget_data.txt',delimiter=',')\n",
    "\n",
    "# design matrix\n",
    "X = np.concatenate((np.ones((1000,1)),data[:,:2]),axis=1)\n",
    "\n",
    "# outcome variable\n",
    "y = data[:,2]\n",
    "\n",
    "# beta coefficients\n",
    "beta = np.linalg.lstsq(X,y)[0]\n",
    "\n",
    "# scaled coefficients (intercept not scaled)\n",
    "betaScaled = beta/np.std(X,axis=0,ddof=1)"
   ]
  },
  {
   "cell_type": "code",
   "execution_count": 15,
   "metadata": {},
   "outputs": [
    {
     "data": {
      "image/png": "[encoded data removed]",
      "text/plain": [
       "<Figure size 576x288 with 2 Axes>"
      ]
     },
     "metadata": {
      "needs_background": "light"
     },
     "output_type": "display_data"
    }
   ],
   "source": [
    "# setup the figure\n",
    "fig,ax = plt.subplots(1,2,figsize=(8,4))\n",
    "\n",
    "# plot widgets by time\n",
    "ax[0].plot(X[:,1],y,'o',markerfacecolor='k')\n",
    "ax[0].set_title('Time variable')\n",
    "ax[0].set_xlabel('Time of day')\n",
    "ax[0].set_ylabel('Widgets purchased')\n",
    "\n",
    "# plot widgets by age\n",
    "ax[1].plot(X[:,2],y,'o',markerfacecolor='k')\n",
    "ax[1].set_title('Age variable')\n",
    "ax[1].set_xlabel('Age')\n",
    "ax[1].set_ylabel('Widgets purchased')\n",
    "plt.show()"
   ]
  },
  {
   "cell_type": "code",
   "execution_count": 16,
   "metadata": {},
   "outputs": [
    {
     "data": {
      "text/plain": [
       "0.3663899451013619"
      ]
     },
     "execution_count": 16,
     "metadata": {},
     "output_type": "execute_result"
    }
   ],
   "source": [
    "# predicted data\n",
    "yHat = X@beta\n",
    "\n",
    "# r-squared\n",
    "r2 = 1 - np.sum((yHat-y)**2) / np.sum((y-np.mean(y))**2)\n",
    "r2"
   ]
  }
 ],
 "metadata": {
  "kernelspec": {
   "display_name": "Python 3",
   "language": "python",
   "name": "python3"
  },
  "language_info": {
   "codemirror_mode": {
    "name": "ipython",
    "version": 3
   },
   "file_extension": ".py",
   "mimetype": "text/x-python",
   "name": "python",
   "nbconvert_exporter": "python",
   "pygments_lexer": "ipython3",
   "version": "3.8.8"
  }
 },
 "nbformat": 4,
 "nbformat_minor": 2
}
