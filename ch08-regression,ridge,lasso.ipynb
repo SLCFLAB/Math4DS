{
 "cells": [
  {
   "cell_type": "code",
   "execution_count": 6,
   "metadata": {
    "id": "iLw9sByHw8-a"
   },
   "outputs": [],
   "source": [
    "import numpy as np\n",
    "import os\n",
    "%matplotlib inline\n",
    "import matplotlib as mpl\n",
    "import matplotlib.pyplot as plt\n",
    "import pandas as pd"
   ]
  },
  {
   "cell_type": "markdown",
   "metadata": {
    "id": "epXTezP9gqjM"
   },
   "source": [
    "# Regression"
   ]
  },
  {
   "cell_type": "code",
   "execution_count": 7,
   "metadata": {},
   "outputs": [],
   "source": [
    "X = 2 * np.random.rand(100, 1)\n",
    "y = 4 + 3 * X + np.random.randn(100, 1)"
   ]
  },
  {
   "cell_type": "code",
   "execution_count": 8,
   "metadata": {},
   "outputs": [
    {
     "data": {
      "image/png": "[encoded data removed]",
      "text/plain": [
       "<Figure size 432x288 with 1 Axes>"
      ]
     },
     "metadata": {
      "needs_background": "light"
     },
     "output_type": "display_data"
    }
   ],
   "source": [
    "plt.plot(X, y, \"b.\")\n",
    "plt.xlabel(\"$x_1$\", fontsize=18)\n",
    "plt.ylabel(\"$y$\", rotation=0, fontsize=18)\n",
    "plt.axis([0, 2, 0, 15])\n",
    "plt.show()"
   ]
  },
  {
   "cell_type": "code",
   "execution_count": 9,
   "metadata": {
    "id": "ZWg9eRX7grco"
   },
   "outputs": [
    {
     "data": {
      "text/plain": [
       "LinearRegression()"
      ]
     },
     "execution_count": 9,
     "metadata": {},
     "output_type": "execute_result"
    }
   ],
   "source": [
    "from sklearn.linear_model import LinearRegression\n",
    "\n",
    "lin_reg = LinearRegression()\n",
    "lin_reg.fit(X, y)"
   ]
  },
  {
   "cell_type": "code",
   "execution_count": 10,
   "metadata": {
    "scrolled": false
   },
   "outputs": [
    {
     "data": {
      "text/plain": [
       "(array([4.21133778]), array([[2.84409276]]))"
      ]
     },
     "execution_count": 10,
     "metadata": {},
     "output_type": "execute_result"
    }
   ],
   "source": [
    "lin_reg.intercept_, lin_reg.coef_"
   ]
  },
  {
   "cell_type": "code",
   "execution_count": 20,
   "metadata": {
    "scrolled": true
   },
   "outputs": [
    {
     "data": {
      "text/plain": [
       "LinearRegression()"
      ]
     },
     "execution_count": 20,
     "metadata": {},
     "output_type": "execute_result"
    }
   ],
   "source": [
    "from sklearn.linear_model import LinearRegression\n",
    "\n",
    "lin_reg = LinearRegression()\n",
    "lin_reg.fit(X_train, y_train)"
   ]
  },
  {
   "cell_type": "code",
   "execution_count": 13,
   "metadata": {},
   "outputs": [
    {
     "data": {
      "text/plain": [
       "0.769821273786824"
      ]
     },
     "execution_count": 13,
     "metadata": {},
     "output_type": "execute_result"
    }
   ],
   "source": [
    "lin_reg.score(X,y) #R sqaure"
   ]
  },
  {
   "cell_type": "code",
   "execution_count": 14,
   "metadata": {},
   "outputs": [],
   "source": [
    "def adjust_R2(model,X,y):\n",
    "    return (1 - (1-model.score(X, y))*(len(y)-1)/(len(y)-X.shape[1]-1))"
   ]
  },
  {
   "cell_type": "code",
   "execution_count": 15,
   "metadata": {},
   "outputs": [
    {
     "data": {
      "text/plain": [
       "0.7674725112744446"
      ]
     },
     "execution_count": 15,
     "metadata": {},
     "output_type": "execute_result"
    }
   ],
   "source": [
    "adjust_R2(lin_reg,X,y) #adust R square"
   ]
  },
  {
   "cell_type": "markdown",
   "metadata": {},
   "source": [
    "## prediction"
   ]
  },
  {
   "cell_type": "code",
   "execution_count": 6,
   "metadata": {},
   "outputs": [],
   "source": [
    "X_new = np.array([[0], [2]])\n"
   ]
  },
  {
   "cell_type": "code",
   "execution_count": 7,
   "metadata": {},
   "outputs": [
    {
     "data": {
      "text/plain": [
       "array([[0],\n",
       "       [2]])"
      ]
     },
     "execution_count": 7,
     "metadata": {},
     "output_type": "execute_result"
    }
   ],
   "source": [
    "X_new"
   ]
  },
  {
   "cell_type": "code",
   "execution_count": 8,
   "metadata": {},
   "outputs": [],
   "source": [
    "y_predict = lin_reg.predict(X_new)\n"
   ]
  },
  {
   "cell_type": "code",
   "execution_count": 9,
   "metadata": {},
   "outputs": [
    {
     "data": {
      "text/plain": [
       "array([[4.21769894],\n",
       "       [9.99095929]])"
      ]
     },
     "execution_count": 9,
     "metadata": {},
     "output_type": "execute_result"
    }
   ],
   "source": [
    "y_predict"
   ]
  },
  {
   "cell_type": "code",
   "execution_count": 10,
   "metadata": {},
   "outputs": [
    {
     "data": {
      "image/png": "[encoded data removed]",
      "text/plain": [
       "<Figure size 432x288 with 1 Axes>"
      ]
     },
     "metadata": {
      "needs_background": "light"
     },
     "output_type": "display_data"
    }
   ],
   "source": [
    "plt.plot(X_new, y_predict, \"r-\", label=\"linear\")\n",
    "plt.plot(X, y, \"y.\")\n",
    "plt.axis([0, 2, 0, 15])\n",
    "plt.show()"
   ]
  },
  {
   "cell_type": "markdown",
   "metadata": {},
   "source": [
    "## Lasso"
   ]
  },
  {
   "cell_type": "code",
   "execution_count": 11,
   "metadata": {},
   "outputs": [
    {
     "data": {
      "text/plain": [
       "Lasso(alpha=0.1)"
      ]
     },
     "execution_count": 11,
     "metadata": {},
     "output_type": "execute_result"
    }
   ],
   "source": [
    "from sklearn.linear_model import Lasso\n",
    "\n",
    "lasso_reg = Lasso(alpha=0.1)\n",
    "lasso_reg.fit(X, y)"
   ]
  },
  {
   "cell_type": "code",
   "execution_count": 12,
   "metadata": {},
   "outputs": [],
   "source": [
    "y_predict_lasso = lasso_reg.predict(X_new)"
   ]
  },
  {
   "cell_type": "code",
   "execution_count": 13,
   "metadata": {},
   "outputs": [
    {
     "data": {
      "image/png": "[encoded data removed]",
      "text/plain": [
       "<Figure size 432x288 with 1 Axes>"
      ]
     },
     "metadata": {
      "needs_background": "light"
     },
     "output_type": "display_data"
    }
   ],
   "source": [
    "plt.plot(X_new, y_predict, \"r-\", label=\"linear\")\n",
    "plt.plot(X_new, y_predict_lasso, \"g-\", label=\"lasso\")\n",
    "plt.plot(X, y, \"y.\")\n",
    "plt.axis([0, 2, 0, 15])\n",
    "plt.legend()\n",
    "plt.show()\n"
   ]
  },
  {
   "cell_type": "markdown",
   "metadata": {},
   "source": [
    "## Ridge"
   ]
  },
  {
   "cell_type": "code",
   "execution_count": 14,
   "metadata": {},
   "outputs": [],
   "source": [
    "from sklearn.linear_model import Ridge\n",
    "\n",
    "ridge_reg = Ridge(alpha=1.0)\n",
    "ridge_reg.fit(X, y)\n",
    "y_predict_ridge = ridge_reg.predict(X_new)"
   ]
  },
  {
   "cell_type": "code",
   "execution_count": 15,
   "metadata": {
    "scrolled": true
   },
   "outputs": [
    {
     "data": {
      "image/png": "[encoded data removed]",
      "text/plain": [
       "<Figure size 432x288 with 1 Axes>"
      ]
     },
     "metadata": {
      "needs_background": "light"
     },
     "output_type": "display_data"
    }
   ],
   "source": [
    "plt.plot(X_new, y_predict, \"r-\", label=\"linear\")\n",
    "plt.plot(X_new, y_predict_lasso, \"g-\", label=\"lasso\")\n",
    "plt.plot(X_new, y_predict_ridge, \"b-\", label=\"ridge\")\n",
    "plt.plot(X, y, \"y.\")\n",
    "plt.axis([0, 2, 0, 15])\n",
    "plt.legend()\n",
    "plt.show()\n",
    "\n"
   ]
  },
  {
   "cell_type": "code",
   "execution_count": null,
   "metadata": {},
   "outputs": [],
   "source": []
  },
  {
   "cell_type": "markdown",
   "metadata": {},
   "source": [
    "# Multi"
   ]
  },
  {
   "cell_type": "markdown",
   "metadata": {},
   "source": [
    "### lasso"
   ]
  },
  {
   "cell_type": "code",
   "execution_count": 1,
   "metadata": {},
   "outputs": [],
   "source": [
    "import numpy as np\n",
    "from sklearn.preprocessing import StandardScaler\n",
    "from sklearn.pipeline import Pipeline\n",
    "from sklearn.model_selection import train_test_split, GridSearchCV\n",
    "from sklearn.linear_model import Lasso"
   ]
  },
  {
   "cell_type": "code",
   "execution_count": 4,
   "metadata": {},
   "outputs": [
    {
     "data": {
      "text/plain": [
       "{'data':           age       sex       bmi        bp        s1        s2        s3  \\\n",
       " 0    0.038076  0.050680  0.061696  0.021872 -0.044223 -0.034821 -0.043401   \n",
       " 1   -0.001882 -0.044642 -0.051474 -0.026328 -0.008449 -0.019163  0.074412   \n",
       " 2    0.085299  0.050680  0.044451 -0.005671 -0.045599 -0.034194 -0.032356   \n",
       " 3   -0.089063 -0.044642 -0.011595 -0.036656  0.012191  0.024991 -0.036038   \n",
       " 4    0.005383 -0.044642 -0.036385  0.021872  0.003935  0.015596  0.008142   \n",
       " ..        ...       ...       ...       ...       ...       ...       ...   \n",
       " 437  0.041708  0.050680  0.019662  0.059744 -0.005697 -0.002566 -0.028674   \n",
       " 438 -0.005515  0.050680 -0.015906 -0.067642  0.049341  0.079165 -0.028674   \n",
       " 439  0.041708  0.050680 -0.015906  0.017282 -0.037344 -0.013840 -0.024993   \n",
       " 440 -0.045472 -0.044642  0.039062  0.001215  0.016318  0.015283 -0.028674   \n",
       " 441 -0.045472 -0.044642 -0.073030 -0.081414  0.083740  0.027809  0.173816   \n",
       " \n",
       "            s4        s5        s6  \n",
       " 0   -0.002592  0.019908 -0.017646  \n",
       " 1   -0.039493 -0.068330 -0.092204  \n",
       " 2   -0.002592  0.002864 -0.025930  \n",
       " 3    0.034309  0.022692 -0.009362  \n",
       " 4   -0.002592 -0.031991 -0.046641  \n",
       " ..        ...       ...       ...  \n",
       " 437 -0.002592  0.031193  0.007207  \n",
       " 438  0.034309 -0.018118  0.044485  \n",
       " 439 -0.011080 -0.046879  0.015491  \n",
       " 440  0.026560  0.044528 -0.025930  \n",
       " 441 -0.039493 -0.004220  0.003064  \n",
       " \n",
       " [442 rows x 10 columns],\n",
       " 'target': 0      151.0\n",
       " 1       75.0\n",
       " 2      141.0\n",
       " 3      206.0\n",
       " 4      135.0\n",
       "        ...  \n",
       " 437    178.0\n",
       " 438    104.0\n",
       " 439    132.0\n",
       " 440    220.0\n",
       " 441     57.0\n",
       " Name: target, Length: 442, dtype: float64,\n",
       " 'frame':           age       sex       bmi        bp        s1        s2        s3  \\\n",
       " 0    0.038076  0.050680  0.061696  0.021872 -0.044223 -0.034821 -0.043401   \n",
       " 1   -0.001882 -0.044642 -0.051474 -0.026328 -0.008449 -0.019163  0.074412   \n",
       " 2    0.085299  0.050680  0.044451 -0.005671 -0.045599 -0.034194 -0.032356   \n",
       " 3   -0.089063 -0.044642 -0.011595 -0.036656  0.012191  0.024991 -0.036038   \n",
       " 4    0.005383 -0.044642 -0.036385  0.021872  0.003935  0.015596  0.008142   \n",
       " ..        ...       ...       ...       ...       ...       ...       ...   \n",
       " 437  0.041708  0.050680  0.019662  0.059744 -0.005697 -0.002566 -0.028674   \n",
       " 438 -0.005515  0.050680 -0.015906 -0.067642  0.049341  0.079165 -0.028674   \n",
       " 439  0.041708  0.050680 -0.015906  0.017282 -0.037344 -0.013840 -0.024993   \n",
       " 440 -0.045472 -0.044642  0.039062  0.001215  0.016318  0.015283 -0.028674   \n",
       " 441 -0.045472 -0.044642 -0.073030 -0.081414  0.083740  0.027809  0.173816   \n",
       " \n",
       "            s4        s5        s6  target  \n",
       " 0   -0.002592  0.019908 -0.017646   151.0  \n",
       " 1   -0.039493 -0.068330 -0.092204    75.0  \n",
       " 2   -0.002592  0.002864 -0.025930   141.0  \n",
       " 3    0.034309  0.022692 -0.009362   206.0  \n",
       " 4   -0.002592 -0.031991 -0.046641   135.0  \n",
       " ..        ...       ...       ...     ...  \n",
       " 437 -0.002592  0.031193  0.007207   178.0  \n",
       " 438  0.034309 -0.018118  0.044485   104.0  \n",
       " 439 -0.011080 -0.046879  0.015491   132.0  \n",
       " 440  0.026560  0.044528 -0.025930   220.0  \n",
       " 441 -0.039493 -0.004220  0.003064    57.0  \n",
       " \n",
       " [442 rows x 11 columns],\n",
       " 'DESCR': '.. _diabetes_dataset:\\n\\nDiabetes dataset\\n----------------\\n\\nTen baseline variables, age, sex, body mass index, average blood\\npressure, and six blood serum measurements were obtained for each of n =\\n442 diabetes patients, as well as the response of interest, a\\nquantitative measure of disease progression one year after baseline.\\n\\n**Data Set Characteristics:**\\n\\n  :Number of Instances: 442\\n\\n  :Number of Attributes: First 10 columns are numeric predictive values\\n\\n  :Target: Column 11 is a quantitative measure of disease progression one year after baseline\\n\\n  :Attribute Information:\\n      - age     age in years\\n      - sex\\n      - bmi     body mass index\\n      - bp      average blood pressure\\n      - s1      tc, total serum cholesterol\\n      - s2      ldl, low-density lipoproteins\\n      - s3      hdl, high-density lipoproteins\\n      - s4      tch, total cholesterol / HDL\\n      - s5      ltg, possibly log of serum triglycerides level\\n      - s6      glu, blood sugar level\\n\\nNote: Each of these 10 feature variables have been mean centered and scaled by the standard deviation times `n_samples` (i.e. the sum of squares of each column totals 1).\\n\\nSource URL:\\nhttps://www4.stat.ncsu.edu/~boos/var.select/diabetes.html\\n\\nFor more information see:\\nBradley Efron, Trevor Hastie, Iain Johnstone and Robert Tibshirani (2004) \"Least Angle Regression,\" Annals of Statistics (with discussion), 407-499.\\n(https://web.stanford.edu/~hastie/Papers/LARS/LeastAngle_2002.pdf)',\n",
       " 'feature_names': ['age',\n",
       "  'sex',\n",
       "  'bmi',\n",
       "  'bp',\n",
       "  's1',\n",
       "  's2',\n",
       "  's3',\n",
       "  's4',\n",
       "  's5',\n",
       "  's6'],\n",
       " 'data_filename': '/home/tako/anaconda3/envs/torch/lib/python3.7/site-packages/sklearn/datasets/data/diabetes_data.csv.gz',\n",
       " 'target_filename': '/home/tako/anaconda3/envs/torch/lib/python3.7/site-packages/sklearn/datasets/data/diabetes_target.csv.gz'}"
      ]
     },
     "execution_count": 4,
     "metadata": {},
     "output_type": "execute_result"
    }
   ],
   "source": [
    "load_diabetes(as_frame=True)"
   ]
  },
  {
   "cell_type": "code",
   "execution_count": 3,
   "metadata": {},
   "outputs": [],
   "source": [
    "from sklearn.datasets import load_diabetes\n",
    "X,y = load_diabetes(return_X_y=True)\n",
    "features = load_diabetes()['feature_names']"
   ]
  },
  {
   "cell_type": "code",
   "execution_count": 71,
   "metadata": {},
   "outputs": [
    {
     "data": {
      "text/plain": [
       "array([[ 0.03807591,  0.05068012,  0.06169621, ..., -0.00259226,\n",
       "         0.01990842, -0.01764613],\n",
       "       [-0.00188202, -0.04464164, -0.05147406, ..., -0.03949338,\n",
       "        -0.06832974, -0.09220405],\n",
       "       [ 0.08529891,  0.05068012,  0.04445121, ..., -0.00259226,\n",
       "         0.00286377, -0.02593034],\n",
       "       ...,\n",
       "       [ 0.04170844,  0.05068012, -0.01590626, ..., -0.01107952,\n",
       "        -0.04687948,  0.01549073],\n",
       "       [-0.04547248, -0.04464164,  0.03906215, ...,  0.02655962,\n",
       "         0.04452837, -0.02593034],\n",
       "       [-0.04547248, -0.04464164, -0.0730303 , ..., -0.03949338,\n",
       "        -0.00421986,  0.00306441]])"
      ]
     },
     "execution_count": 71,
     "metadata": {},
     "output_type": "execute_result"
    }
   ],
   "source": [
    "load_diabetes()['data']"
   ]
  },
  {
   "cell_type": "code",
   "execution_count": 70,
   "metadata": {
    "scrolled": true
   },
   "outputs": [
    {
     "data": {
      "text/html": [
       "<div>\n",
       "<style scoped>\n",
       "    .dataframe tbody tr th:only-of-type {\n",
       "        vertical-align: middle;\n",
       "    }\n",
       "\n",
       "    .dataframe tbody tr th {\n",
       "        vertical-align: top;\n",
       "    }\n",
       "\n",
       "    .dataframe thead th {\n",
       "        text-align: right;\n",
       "    }\n",
       "</style>\n",
       "<table border=\"1\" class=\"dataframe\">\n",
       "  <thead>\n",
       "    <tr style=\"text-align: right;\">\n",
       "      <th></th>\n",
       "      <th>age</th>\n",
       "      <th>sex</th>\n",
       "      <th>bmi</th>\n",
       "      <th>bp</th>\n",
       "      <th>s1</th>\n",
       "      <th>s2</th>\n",
       "      <th>s3</th>\n",
       "      <th>s4</th>\n",
       "      <th>s5</th>\n",
       "      <th>s6</th>\n",
       "    </tr>\n",
       "  </thead>\n",
       "  <tbody>\n",
       "    <tr>\n",
       "      <th>0</th>\n",
       "      <td>0.038076</td>\n",
       "      <td>0.050680</td>\n",
       "      <td>0.061696</td>\n",
       "      <td>0.021872</td>\n",
       "      <td>-0.044223</td>\n",
       "      <td>-0.034821</td>\n",
       "      <td>-0.043401</td>\n",
       "      <td>-0.002592</td>\n",
       "      <td>0.019908</td>\n",
       "      <td>-0.017646</td>\n",
       "    </tr>\n",
       "    <tr>\n",
       "      <th>1</th>\n",
       "      <td>-0.001882</td>\n",
       "      <td>-0.044642</td>\n",
       "      <td>-0.051474</td>\n",
       "      <td>-0.026328</td>\n",
       "      <td>-0.008449</td>\n",
       "      <td>-0.019163</td>\n",
       "      <td>0.074412</td>\n",
       "      <td>-0.039493</td>\n",
       "      <td>-0.068330</td>\n",
       "      <td>-0.092204</td>\n",
       "    </tr>\n",
       "    <tr>\n",
       "      <th>2</th>\n",
       "      <td>0.085299</td>\n",
       "      <td>0.050680</td>\n",
       "      <td>0.044451</td>\n",
       "      <td>-0.005671</td>\n",
       "      <td>-0.045599</td>\n",
       "      <td>-0.034194</td>\n",
       "      <td>-0.032356</td>\n",
       "      <td>-0.002592</td>\n",
       "      <td>0.002864</td>\n",
       "      <td>-0.025930</td>\n",
       "    </tr>\n",
       "    <tr>\n",
       "      <th>3</th>\n",
       "      <td>-0.089063</td>\n",
       "      <td>-0.044642</td>\n",
       "      <td>-0.011595</td>\n",
       "      <td>-0.036656</td>\n",
       "      <td>0.012191</td>\n",
       "      <td>0.024991</td>\n",
       "      <td>-0.036038</td>\n",
       "      <td>0.034309</td>\n",
       "      <td>0.022692</td>\n",
       "      <td>-0.009362</td>\n",
       "    </tr>\n",
       "    <tr>\n",
       "      <th>4</th>\n",
       "      <td>0.005383</td>\n",
       "      <td>-0.044642</td>\n",
       "      <td>-0.036385</td>\n",
       "      <td>0.021872</td>\n",
       "      <td>0.003935</td>\n",
       "      <td>0.015596</td>\n",
       "      <td>0.008142</td>\n",
       "      <td>-0.002592</td>\n",
       "      <td>-0.031991</td>\n",
       "      <td>-0.046641</td>\n",
       "    </tr>\n",
       "    <tr>\n",
       "      <th>...</th>\n",
       "      <td>...</td>\n",
       "      <td>...</td>\n",
       "      <td>...</td>\n",
       "      <td>...</td>\n",
       "      <td>...</td>\n",
       "      <td>...</td>\n",
       "      <td>...</td>\n",
       "      <td>...</td>\n",
       "      <td>...</td>\n",
       "      <td>...</td>\n",
       "    </tr>\n",
       "    <tr>\n",
       "      <th>437</th>\n",
       "      <td>0.041708</td>\n",
       "      <td>0.050680</td>\n",
       "      <td>0.019662</td>\n",
       "      <td>0.059744</td>\n",
       "      <td>-0.005697</td>\n",
       "      <td>-0.002566</td>\n",
       "      <td>-0.028674</td>\n",
       "      <td>-0.002592</td>\n",
       "      <td>0.031193</td>\n",
       "      <td>0.007207</td>\n",
       "    </tr>\n",
       "    <tr>\n",
       "      <th>438</th>\n",
       "      <td>-0.005515</td>\n",
       "      <td>0.050680</td>\n",
       "      <td>-0.015906</td>\n",
       "      <td>-0.067642</td>\n",
       "      <td>0.049341</td>\n",
       "      <td>0.079165</td>\n",
       "      <td>-0.028674</td>\n",
       "      <td>0.034309</td>\n",
       "      <td>-0.018118</td>\n",
       "      <td>0.044485</td>\n",
       "    </tr>\n",
       "    <tr>\n",
       "      <th>439</th>\n",
       "      <td>0.041708</td>\n",
       "      <td>0.050680</td>\n",
       "      <td>-0.015906</td>\n",
       "      <td>0.017282</td>\n",
       "      <td>-0.037344</td>\n",
       "      <td>-0.013840</td>\n",
       "      <td>-0.024993</td>\n",
       "      <td>-0.011080</td>\n",
       "      <td>-0.046879</td>\n",
       "      <td>0.015491</td>\n",
       "    </tr>\n",
       "    <tr>\n",
       "      <th>440</th>\n",
       "      <td>-0.045472</td>\n",
       "      <td>-0.044642</td>\n",
       "      <td>0.039062</td>\n",
       "      <td>0.001215</td>\n",
       "      <td>0.016318</td>\n",
       "      <td>0.015283</td>\n",
       "      <td>-0.028674</td>\n",
       "      <td>0.026560</td>\n",
       "      <td>0.044528</td>\n",
       "      <td>-0.025930</td>\n",
       "    </tr>\n",
       "    <tr>\n",
       "      <th>441</th>\n",
       "      <td>-0.045472</td>\n",
       "      <td>-0.044642</td>\n",
       "      <td>-0.073030</td>\n",
       "      <td>-0.081414</td>\n",
       "      <td>0.083740</td>\n",
       "      <td>0.027809</td>\n",
       "      <td>0.173816</td>\n",
       "      <td>-0.039493</td>\n",
       "      <td>-0.004220</td>\n",
       "      <td>0.003064</td>\n",
       "    </tr>\n",
       "  </tbody>\n",
       "</table>\n",
       "<p>442 rows × 10 columns</p>\n",
       "</div>"
      ],
      "text/plain": [
       "          age       sex       bmi        bp        s1        s2        s3  \\\n",
       "0    0.038076  0.050680  0.061696  0.021872 -0.044223 -0.034821 -0.043401   \n",
       "1   -0.001882 -0.044642 -0.051474 -0.026328 -0.008449 -0.019163  0.074412   \n",
       "2    0.085299  0.050680  0.044451 -0.005671 -0.045599 -0.034194 -0.032356   \n",
       "3   -0.089063 -0.044642 -0.011595 -0.036656  0.012191  0.024991 -0.036038   \n",
       "4    0.005383 -0.044642 -0.036385  0.021872  0.003935  0.015596  0.008142   \n",
       "..        ...       ...       ...       ...       ...       ...       ...   \n",
       "437  0.041708  0.050680  0.019662  0.059744 -0.005697 -0.002566 -0.028674   \n",
       "438 -0.005515  0.050680 -0.015906 -0.067642  0.049341  0.079165 -0.028674   \n",
       "439  0.041708  0.050680 -0.015906  0.017282 -0.037344 -0.013840 -0.024993   \n",
       "440 -0.045472 -0.044642  0.039062  0.001215  0.016318  0.015283 -0.028674   \n",
       "441 -0.045472 -0.044642 -0.073030 -0.081414  0.083740  0.027809  0.173816   \n",
       "\n",
       "           s4        s5        s6  \n",
       "0   -0.002592  0.019908 -0.017646  \n",
       "1   -0.039493 -0.068330 -0.092204  \n",
       "2   -0.002592  0.002864 -0.025930  \n",
       "3    0.034309  0.022692 -0.009362  \n",
       "4   -0.002592 -0.031991 -0.046641  \n",
       "..        ...       ...       ...  \n",
       "437 -0.002592  0.031193  0.007207  \n",
       "438  0.034309 -0.018118  0.044485  \n",
       "439 -0.011080 -0.046879  0.015491  \n",
       "440  0.026560  0.044528 -0.025930  \n",
       "441 -0.039493 -0.004220  0.003064  \n",
       "\n",
       "[442 rows x 10 columns]"
      ]
     },
     "execution_count": 70,
     "metadata": {},
     "output_type": "execute_result"
    }
   ],
   "source": [
    "pd.DataFrame(load_diabetes()['data'],columns=load_diabetes()['feature_names'])"
   ]
  },
  {
   "cell_type": "code",
   "execution_count": 53,
   "metadata": {},
   "outputs": [],
   "source": [
    "X_train, X_test, y_train, y_test = train_test_split(X, y, test_size=0.33, random_state=42)"
   ]
  },
  {
   "cell_type": "code",
   "execution_count": 54,
   "metadata": {},
   "outputs": [],
   "source": [
    "pipeline = Pipeline([\n",
    "                     ('scaler',StandardScaler()),\n",
    "                     ('model',Lasso())\n",
    "])\n"
   ]
  },
  {
   "cell_type": "code",
   "execution_count": 55,
   "metadata": {},
   "outputs": [],
   "source": [
    "search = GridSearchCV(pipeline,\n",
    "                      {'model__alpha':np.arange(0.1,10,0.1)},\n",
    "                      cv = 5, scoring=\"neg_mean_squared_error\",verbose=3\n",
    "                      )"
   ]
  },
  {
   "cell_type": "code",
   "execution_count": 56,
   "metadata": {},
   "outputs": [
    {
     "name": "stdout",
     "output_type": "stream",
     "text": [
      "Fitting 5 folds for each of 99 candidates, totalling 495 fits\n",
      "[CV 1/5] END ..............model__alpha=0.1;, score=-3051.717 total time=   0.0s\n",
      "[CV 2/5] END ..............model__alpha=0.1;, score=-3405.310 total time=   0.0s\n",
      "[CV 3/5] END ..............model__alpha=0.1;, score=-2593.336 total time=   0.0s\n",
      "[CV 4/5] END ..............model__alpha=0.1;, score=-3309.657 total time=   0.0s\n",
      "[CV 5/5] END ..............model__alpha=0.1;, score=-3512.096 total time=   0.0s\n",
      "[CV 1/5] END ..............model__alpha=0.2;, score=-3057.680 total time=   0.0s\n",
      "[CV 2/5] END ..............model__alpha=0.2;, score=-3413.510 total time=   0.0s\n",
      "[CV 3/5] END ..............model__alpha=0.2;, score=-2606.352 total time=   0.0s\n",
      "[CV 4/5] END ..............model__alpha=0.2;, score=-3317.452 total time=   0.0s\n",
      "[CV 5/5] END ..............model__alpha=0.2;, score=-3502.683 total time=   0.0s\n",
      "[CV 1/5] END model__alpha=0.30000000000000004;, score=-3057.765 total time=   0.0s\n",
      "[CV 2/5] END model__alpha=0.30000000000000004;, score=-3421.241 total time=   0.0s\n",
      "[CV 3/5] END model__alpha=0.30000000000000004;, score=-2604.956 total time=   0.0s\n",
      "[CV 4/5] END model__alpha=0.30000000000000004;, score=-3320.227 total time=   0.0s\n",
      "[CV 5/5] END model__alpha=0.30000000000000004;, score=-3497.542 total time=   0.0s\n",
      "[CV 1/5] END ..............model__alpha=0.4;, score=-3055.001 total time=   0.0s\n",
      "[CV 2/5] END ..............model__alpha=0.4;, score=-3423.214 total time=   0.0s\n",
      "[CV 3/5] END ..............model__alpha=0.4;, score=-2600.531 total time=   0.0s\n",
      "[CV 4/5] END ..............model__alpha=0.4;, score=-3317.555 total time=   0.0s\n",
      "[CV 5/5] END ..............model__alpha=0.4;, score=-3490.297 total time=   0.0s\n",
      "[CV 1/5] END ..............model__alpha=0.5;, score=-3052.670 total time=   0.0s\n",
      "[CV 2/5] END ..............model__alpha=0.5;, score=-3425.325 total time=   0.0s\n",
      "[CV 3/5] END ..............model__alpha=0.5;, score=-2596.300 total time=   0.0s\n",
      "[CV 4/5] END ..............model__alpha=0.5;, score=-3315.496 total time=   0.0s\n",
      "[CV 5/5] END ..............model__alpha=0.5;, score=-3483.483 total time=   0.0s\n",
      "[CV 1/5] END ..............model__alpha=0.6;, score=-3050.771 total time=   0.0s\n",
      "[CV 2/5] END ..............model__alpha=0.6;, score=-3427.572 total time=   0.0s\n",
      "[CV 3/5] END ..............model__alpha=0.6;, score=-2592.265 total time=   0.0s\n",
      "[CV 4/5] END ..............model__alpha=0.6;, score=-3314.144 total time=   0.0s\n",
      "[CV 5/5] END ..............model__alpha=0.6;, score=-3477.408 total time=   0.0s\n",
      "[CV 1/5] END model__alpha=0.7000000000000001;, score=-3049.305 total time=   0.0s\n",
      "[CV 2/5] END model__alpha=0.7000000000000001;, score=-3429.957 total time=   0.0s\n",
      "[CV 3/5] END model__alpha=0.7000000000000001;, score=-2588.423 total time=   0.0s\n",
      "[CV 4/5] END model__alpha=0.7000000000000001;, score=-3313.184 total time=   0.0s\n",
      "[CV 5/5] END model__alpha=0.7000000000000001;, score=-3471.658 total time=   0.0s\n",
      "[CV 1/5] END ..............model__alpha=0.8;, score=-3048.271 total time=   0.0s\n",
      "[CV 2/5] END ..............model__alpha=0.8;, score=-3432.480 total time=   0.0s\n",
      "[CV 3/5] END ..............model__alpha=0.8;, score=-2585.198 total time=   0.0s\n",
      "[CV 4/5] END ..............model__alpha=0.8;, score=-3312.541 total time=   0.0s\n",
      "[CV 5/5] END ..............model__alpha=0.8;, score=-3466.191 total time=   0.0s\n",
      "[CV 1/5] END ..............model__alpha=0.9;, score=-3047.662 total time=   0.0s\n",
      "[CV 2/5] END ..............model__alpha=0.9;, score=-3435.141 total time=   0.0s\n",
      "[CV 3/5] END ..............model__alpha=0.9;, score=-2582.409 total time=   0.0s\n",
      "[CV 4/5] END ..............model__alpha=0.9;, score=-3312.192 total time=   0.0s\n",
      "[CV 5/5] END ..............model__alpha=0.9;, score=-3459.581 total time=   0.0s\n",
      "[CV 1/5] END ..............model__alpha=1.0;, score=-3047.495 total time=   0.0s\n",
      "[CV 2/5] END ..............model__alpha=1.0;, score=-3437.939 total time=   0.0s\n",
      "[CV 3/5] END ..............model__alpha=1.0;, score=-2579.753 total time=   0.0s\n",
      "[CV 4/5] END ..............model__alpha=1.0;, score=-3312.155 total time=   0.0s\n",
      "[CV 5/5] END ..............model__alpha=1.0;, score=-3452.776 total time=   0.0s\n",
      "[CV 1/5] END ..............model__alpha=1.1;, score=-3050.246 total time=   0.0s\n",
      "[CV 2/5] END ..............model__alpha=1.1;, score=-3440.874 total time=   0.0s\n",
      "[CV 3/5] END ..............model__alpha=1.1;, score=-2577.248 total time=   0.0s\n",
      "[CV 4/5] END ..............model__alpha=1.1;, score=-3312.421 total time=   0.0s\n",
      "[CV 5/5] END ..............model__alpha=1.1;, score=-3446.123 total time=   0.0s\n",
      "[CV 1/5] END model__alpha=1.2000000000000002;, score=-3053.802 total time=   0.0s\n",
      "[CV 2/5] END model__alpha=1.2000000000000002;, score=-3443.938 total time=   0.0s\n",
      "[CV 3/5] END model__alpha=1.2000000000000002;, score=-2574.878 total time=   0.0s\n",
      "[CV 4/5] END model__alpha=1.2000000000000002;, score=-3312.992 total time=   0.0s\n",
      "[CV 5/5] END model__alpha=1.2000000000000002;, score=-3439.576 total time=   0.0s\n",
      "[CV 1/5] END model__alpha=1.3000000000000003;, score=-3058.377 total time=   0.0s\n",
      "[CV 2/5] END model__alpha=1.3000000000000003;, score=-3447.155 total time=   0.0s\n",
      "[CV 3/5] END model__alpha=1.3000000000000003;, score=-2572.641 total time=   0.0s\n",
      "[CV 4/5] END model__alpha=1.3000000000000003;, score=-3313.869 total time=   0.0s\n",
      "[CV 5/5] END model__alpha=1.3000000000000003;, score=-3433.183 total time=   0.0s\n",
      "[CV 1/5] END model__alpha=1.4000000000000001;, score=-3063.172 total time=   0.0s\n",
      "[CV 2/5] END model__alpha=1.4000000000000001;, score=-3452.560 total time=   0.0s\n",
      "[CV 3/5] END model__alpha=1.4000000000000001;, score=-2570.350 total time=   0.0s\n",
      "[CV 4/5] END model__alpha=1.4000000000000001;, score=-3315.050 total time=   0.0s\n",
      "[CV 5/5] END model__alpha=1.4000000000000001;, score=-3426.896 total time=   0.0s\n",
      "[CV 1/5] END model__alpha=1.5000000000000002;, score=-3068.177 total time=   0.0s\n",
      "[CV 2/5] END model__alpha=1.5000000000000002;, score=-3458.417 total time=   0.0s\n",
      "[CV 3/5] END model__alpha=1.5000000000000002;, score=-2568.035 total time=   0.0s\n",
      "[CV 4/5] END model__alpha=1.5000000000000002;, score=-3316.535 total time=   0.0s\n",
      "[CV 5/5] END model__alpha=1.5000000000000002;, score=-3420.764 total time=   0.0s\n",
      "[CV 1/5] END ..............model__alpha=1.6;, score=-3073.408 total time=   0.0s\n",
      "[CV 2/5] END ..............model__alpha=1.6;, score=-3464.406 total time=   0.0s\n",
      "[CV 3/5] END ..............model__alpha=1.6;, score=-2565.839 total time=   0.0s\n",
      "[CV 4/5] END ..............model__alpha=1.6;, score=-3318.325 total time=   0.0s\n",
      "[CV 5/5] END ..............model__alpha=1.6;, score=-3414.735 total time=   0.0s\n",
      "[CV 1/5] END model__alpha=1.7000000000000002;, score=-3078.861 total time=   0.0s\n",
      "[CV 2/5] END model__alpha=1.7000000000000002;, score=-3472.771 total time=   0.0s\n",
      "[CV 3/5] END model__alpha=1.7000000000000002;, score=-2563.755 total time=   0.0s\n",
      "[CV 4/5] END model__alpha=1.7000000000000002;, score=-3320.420 total time=   0.0s\n",
      "[CV 5/5] END model__alpha=1.7000000000000002;, score=-3408.840 total time=   0.0s\n",
      "[CV 1/5] END model__alpha=1.8000000000000003;, score=-3084.531 total time=   0.0s\n",
      "[CV 2/5] END model__alpha=1.8000000000000003;, score=-3481.344 total time=   0.0s\n",
      "[CV 3/5] END model__alpha=1.8000000000000003;, score=-2561.805 total time=   0.0s\n",
      "[CV 4/5] END model__alpha=1.8000000000000003;, score=-3322.820 total time=   0.0s\n",
      "[CV 5/5] END model__alpha=1.8000000000000003;, score=-3403.075 total time=   0.0s\n",
      "[CV 1/5] END model__alpha=1.9000000000000001;, score=-3090.430 total time=   0.0s\n",
      "[CV 2/5] END model__alpha=1.9000000000000001;, score=-3490.016 total time=   0.0s\n",
      "[CV 3/5] END model__alpha=1.9000000000000001;, score=-2559.968 total time=   0.0s\n",
      "[CV 4/5] END model__alpha=1.9000000000000001;, score=-3325.524 total time=   0.0s\n",
      "[CV 5/5] END model__alpha=1.9000000000000001;, score=-3397.441 total time=   0.0s\n",
      "[CV 1/5] END ..............model__alpha=2.0;, score=-3096.542 total time=   0.0s\n",
      "[CV 2/5] END ..............model__alpha=2.0;, score=-3498.793 total time=   0.0s\n",
      "[CV 3/5] END ..............model__alpha=2.0;, score=-2558.260 total time=   0.0s\n",
      "[CV 4/5] END ..............model__alpha=2.0;, score=-3328.537 total time=   0.0s\n",
      "[CV 5/5] END ..............model__alpha=2.0;, score=-3391.942 total time=   0.0s\n",
      "[CV 1/5] END ..............model__alpha=2.1;, score=-3102.867 total time=   0.0s\n",
      "[CV 2/5] END ..............model__alpha=2.1;, score=-3507.672 total time=   0.0s\n",
      "[CV 3/5] END ..............model__alpha=2.1;, score=-2557.356 total time=   0.0s\n",
      "[CV 4/5] END ..............model__alpha=2.1;, score=-3332.375 total time=   0.0s\n",
      "[CV 5/5] END ..............model__alpha=2.1;, score=-3386.553 total time=   0.0s\n",
      "[CV 1/5] END ..............model__alpha=2.2;, score=-3109.422 total time=   0.0s\n",
      "[CV 2/5] END ..............model__alpha=2.2;, score=-3514.543 total time=   0.0s\n",
      "[CV 3/5] END ..............model__alpha=2.2;, score=-2557.365 total time=   0.0s\n",
      "[CV 4/5] END ..............model__alpha=2.2;, score=-3336.529 total time=   0.0s\n",
      "[CV 5/5] END ..............model__alpha=2.2;, score=-3381.317 total time=   0.0s\n",
      "[CV 1/5] END model__alpha=2.3000000000000003;, score=-3116.207 total time=   0.0s\n",
      "[CV 2/5] END model__alpha=2.3000000000000003;, score=-3518.000 total time=   0.0s\n",
      "[CV 3/5] END model__alpha=2.3000000000000003;, score=-2557.537 total time=   0.0s\n",
      "[CV 4/5] END model__alpha=2.3000000000000003;, score=-3340.965 total time=   0.0s\n",
      "[CV 5/5] END model__alpha=2.3000000000000003;, score=-3376.195 total time=   0.0s\n",
      "[CV 1/5] END model__alpha=2.4000000000000004;, score=-3124.329 total time=   0.0s\n",
      "[CV 2/5] END model__alpha=2.4000000000000004;, score=-3521.527 total time=   0.0s\n",
      "[CV 3/5] END model__alpha=2.4000000000000004;, score=-2557.867 total time=   0.0s\n",
      "[CV 4/5] END model__alpha=2.4000000000000004;, score=-3345.663 total time=   0.0s\n",
      "[CV 5/5] END model__alpha=2.4000000000000004;, score=-3371.209 total time=   0.0s\n",
      "[CV 1/5] END model__alpha=2.5000000000000004;, score=-3131.134 total time=   0.0s\n",
      "[CV 2/5] END model__alpha=2.5000000000000004;, score=-3525.114 total time=   0.0s\n",
      "[CV 3/5] END model__alpha=2.5000000000000004;, score=-2558.356 total time=   0.0s\n",
      "[CV 4/5] END model__alpha=2.5000000000000004;, score=-3350.656 total time=   0.0s\n",
      "[CV 5/5] END model__alpha=2.5000000000000004;, score=-3366.340 total time=   0.0s\n",
      "[CV 1/5] END ..............model__alpha=2.6;, score=-3137.607 total time=   0.0s\n",
      "[CV 2/5] END ..............model__alpha=2.6;, score=-3528.766 total time=   0.0s\n",
      "[CV 3/5] END ..............model__alpha=2.6;, score=-2559.003 total time=   0.0s\n",
      "[CV 4/5] END ..............model__alpha=2.6;, score=-3355.915 total time=   0.0s\n",
      "[CV 5/5] END ..............model__alpha=2.6;, score=-3361.614 total time=   0.0s\n",
      "[CV 1/5] END ..............model__alpha=2.7;, score=-3144.344 total time=   0.0s\n",
      "[CV 2/5] END ..............model__alpha=2.7;, score=-3532.481 total time=   0.0s\n",
      "[CV 3/5] END ..............model__alpha=2.7;, score=-2559.408 total time=   0.0s\n",
      "[CV 4/5] END ..............model__alpha=2.7;, score=-3361.460 total time=   0.0s\n",
      "[CV 5/5] END ..............model__alpha=2.7;, score=-3357.012 total time=   0.0s\n",
      "[CV 1/5] END model__alpha=2.8000000000000003;, score=-3151.173 total time=   0.0s\n",
      "[CV 2/5] END model__alpha=2.8000000000000003;, score=-3536.259 total time=   0.0s\n",
      "[CV 3/5] END model__alpha=2.8000000000000003;, score=-2560.216 total time=   0.0s\n",
      "[CV 4/5] END model__alpha=2.8000000000000003;, score=-3367.276 total time=   0.0s\n",
      "[CV 5/5] END model__alpha=2.8000000000000003;, score=-3352.541 total time=   0.0s\n",
      "[CV 1/5] END model__alpha=2.9000000000000004;, score=-3154.903 total time=   0.0s\n",
      "[CV 2/5] END model__alpha=2.9000000000000004;, score=-3540.100 total time=   0.0s\n",
      "[CV 3/5] END model__alpha=2.9000000000000004;, score=-2559.682 total time=   0.0s\n",
      "[CV 4/5] END model__alpha=2.9000000000000004;, score=-3373.361 total time=   0.0s\n",
      "[CV 5/5] END model__alpha=2.9000000000000004;, score=-3348.191 total time=   0.0s\n",
      "[CV 1/5] END model__alpha=3.0000000000000004;, score=-3158.735 total time=   0.0s\n",
      "[CV 2/5] END model__alpha=3.0000000000000004;, score=-3544.005 total time=   0.0s\n",
      "[CV 3/5] END model__alpha=3.0000000000000004;, score=-2559.266 total time=   0.0s\n",
      "[CV 4/5] END model__alpha=3.0000000000000004;, score=-3379.733 total time=   0.0s\n",
      "[CV 5/5] END model__alpha=3.0000000000000004;, score=-3343.971 total time=   0.0s\n",
      "[CV 1/5] END ..............model__alpha=3.1;, score=-3163.489 total time=   0.0s\n",
      "[CV 2/5] END ..............model__alpha=3.1;, score=-3547.972 total time=   0.0s\n",
      "[CV 3/5] END ..............model__alpha=3.1;, score=-2558.963 total time=   0.0s\n",
      "[CV 4/5] END ..............model__alpha=3.1;, score=-3386.382 total time=   0.0s\n",
      "[CV 5/5] END ..............model__alpha=3.1;, score=-3339.896 total time=   0.0s\n",
      "[CV 1/5] END ..............model__alpha=3.2;, score=-3168.445 total time=   0.0s\n",
      "[CV 2/5] END ..............model__alpha=3.2;, score=-3552.003 total time=   0.0s\n",
      "[CV 3/5] END ..............model__alpha=3.2;, score=-2558.775 total time=   0.0s\n",
      "[CV 4/5] END ..............model__alpha=3.2;, score=-3393.518 total time=   0.0s\n",
      "[CV 5/5] END ..............model__alpha=3.2;, score=-3337.048 total time=   0.0s\n",
      "[CV 1/5] END model__alpha=3.3000000000000003;, score=-3173.491 total time=   0.0s\n",
      "[CV 2/5] END model__alpha=3.3000000000000003;, score=-3556.097 total time=   0.0s\n",
      "[CV 3/5] END model__alpha=3.3000000000000003;, score=-2558.703 total time=   0.0s\n",
      "[CV 4/5] END model__alpha=3.3000000000000003;, score=-3400.626 total time=   0.0s\n",
      "[CV 5/5] END model__alpha=3.3000000000000003;, score=-3334.855 total time=   0.0s\n",
      "[CV 1/5] END model__alpha=3.4000000000000004;, score=-3178.626 total time=   0.0s\n",
      "[CV 2/5] END model__alpha=3.4000000000000004;, score=-3560.254 total time=   0.0s\n",
      "[CV 3/5] END model__alpha=3.4000000000000004;, score=-2558.746 total time=   0.0s\n",
      "[CV 4/5] END model__alpha=3.4000000000000004;, score=-3407.500 total time=   0.0s\n",
      "[CV 5/5] END model__alpha=3.4000000000000004;, score=-3332.867 total time=   0.0s\n",
      "[CV 1/5] END model__alpha=3.5000000000000004;, score=-3183.851 total time=   0.0s\n",
      "[CV 2/5] END model__alpha=3.5000000000000004;, score=-3564.475 total time=   0.0s\n",
      "[CV 3/5] END model__alpha=3.5000000000000004;, score=-2558.905 total time=   0.0s\n",
      "[CV 4/5] END model__alpha=3.5000000000000004;, score=-3414.619 total time=   0.0s\n",
      "[CV 5/5] END model__alpha=3.5000000000000004;, score=-3330.993 total time=   0.0s\n",
      "[CV 1/5] END ..............model__alpha=3.6;, score=-3189.166 total time=   0.0s\n",
      "[CV 2/5] END ..............model__alpha=3.6;, score=-3568.761 total time=   0.0s\n",
      "[CV 3/5] END ..............model__alpha=3.6;, score=-2559.179 total time=   0.0s\n",
      "[CV 4/5] END ..............model__alpha=3.6;, score=-3421.981 total time=   0.0s\n",
      "[CV 5/5] END ..............model__alpha=3.6;, score=-3329.233 total time=   0.0s\n",
      "[CV 1/5] END ..............model__alpha=3.7;, score=-3194.571 total time=   0.0s\n",
      "[CV 2/5] END ..............model__alpha=3.7;, score=-3573.108 total time=   0.0s\n",
      "[CV 3/5] END ..............model__alpha=3.7;, score=-2559.568 total time=   0.0s\n",
      "[CV 4/5] END ..............model__alpha=3.7;, score=-3428.577 total time=   0.0s\n",
      "[CV 5/5] END ..............model__alpha=3.7;, score=-3327.408 total time=   0.0s\n",
      "[CV 1/5] END model__alpha=3.8000000000000003;, score=-3200.065 total time=   0.0s\n",
      "[CV 2/5] END model__alpha=3.8000000000000003;, score=-3577.518 total time=   0.0s\n",
      "[CV 3/5] END model__alpha=3.8000000000000003;, score=-2560.072 total time=   0.0s\n",
      "[CV 4/5] END model__alpha=3.8000000000000003;, score=-3433.271 total time=   0.0s\n",
      "[CV 5/5] END model__alpha=3.8000000000000003;, score=-3325.689 total time=   0.0s\n",
      "[CV 1/5] END model__alpha=3.9000000000000004;, score=-3205.649 total time=   0.0s\n",
      "[CV 2/5] END model__alpha=3.9000000000000004;, score=-3581.991 total time=   0.0s\n",
      "[CV 3/5] END model__alpha=3.9000000000000004;, score=-2560.692 total time=   0.0s\n",
      "[CV 4/5] END model__alpha=3.9000000000000004;, score=-3438.092 total time=   0.0s\n",
      "[CV 5/5] END model__alpha=3.9000000000000004;, score=-3324.053 total time=   0.0s\n",
      "[CV 1/5] END ..............model__alpha=4.0;, score=-3211.322 total time=   0.0s\n",
      "[CV 2/5] END ..............model__alpha=4.0;, score=-3586.528 total time=   0.0s\n",
      "[CV 3/5] END ..............model__alpha=4.0;, score=-2561.427 total time=   0.0s\n",
      "[CV 4/5] END ..............model__alpha=4.0;, score=-3443.040 total time=   0.0s\n",
      "[CV 5/5] END ..............model__alpha=4.0;, score=-3322.500 total time=   0.0s\n",
      "[CV 1/5] END ..............model__alpha=4.1;, score=-3217.085 total time=   0.0s\n",
      "[CV 2/5] END ..............model__alpha=4.1;, score=-3591.128 total time=   0.0s\n",
      "[CV 3/5] END ..............model__alpha=4.1;, score=-2562.277 total time=   0.0s\n",
      "[CV 4/5] END ..............model__alpha=4.1;, score=-3448.113 total time=   0.0s\n",
      "[CV 5/5] END ..............model__alpha=4.1;, score=-3321.032 total time=   0.0s\n",
      "[CV 1/5] END ..............model__alpha=4.2;, score=-3222.938 total time=   0.0s\n",
      "[CV 2/5] END ..............model__alpha=4.2;, score=-3595.791 total time=   0.0s\n",
      "[CV 3/5] END ..............model__alpha=4.2;, score=-2563.243 total time=   0.0s\n",
      "[CV 4/5] END ..............model__alpha=4.2;, score=-3453.313 total time=   0.0s\n",
      "[CV 5/5] END ..............model__alpha=4.2;, score=-3319.647 total time=   0.0s\n",
      "[CV 1/5] END ..............model__alpha=4.3;, score=-3228.880 total time=   0.0s\n",
      "[CV 2/5] END ..............model__alpha=4.3;, score=-3600.518 total time=   0.0s\n",
      "[CV 3/5] END ..............model__alpha=4.3;, score=-2564.324 total time=   0.0s\n",
      "[CV 4/5] END ..............model__alpha=4.3;, score=-3458.640 total time=   0.0s\n",
      "[CV 5/5] END ..............model__alpha=4.3;, score=-3318.346 total time=   0.0s\n",
      "[CV 1/5] END model__alpha=4.3999999999999995;, score=-3234.947 total time=   0.0s\n",
      "[CV 2/5] END model__alpha=4.3999999999999995;, score=-3605.308 total time=   0.0s\n",
      "[CV 3/5] END model__alpha=4.3999999999999995;, score=-2565.520 total time=   0.0s\n",
      "[CV 4/5] END model__alpha=4.3999999999999995;, score=-3464.093 total time=   0.0s\n",
      "[CV 5/5] END model__alpha=4.3999999999999995;, score=-3317.128 total time=   0.0s\n",
      "[CV 1/5] END ..............model__alpha=4.5;, score=-3241.069 total time=   0.0s\n",
      "[CV 2/5] END ..............model__alpha=4.5;, score=-3610.161 total time=   0.0s\n",
      "[CV 3/5] END ..............model__alpha=4.5;, score=-2566.831 total time=   0.0s\n",
      "[CV 4/5] END ..............model__alpha=4.5;, score=-3469.672 total time=   0.0s\n",
      "[CV 5/5] END ..............model__alpha=4.5;, score=-3315.994 total time=   0.0s\n",
      "[CV 1/5] END ..............model__alpha=4.6;, score=-3247.281 total time=   0.0s\n",
      "[CV 2/5] END ..............model__alpha=4.6;, score=-3615.077 total time=   0.0s\n",
      "[CV 3/5] END ..............model__alpha=4.6;, score=-2568.258 total time=   0.0s\n",
      "[CV 4/5] END ..............model__alpha=4.6;, score=-3475.378 total time=   0.0s\n",
      "[CV 5/5] END ..............model__alpha=4.6;, score=-3314.944 total time=   0.0s\n",
      "[CV 1/5] END ..............model__alpha=4.7;, score=-3253.583 total time=   0.0s\n",
      "[CV 2/5] END ..............model__alpha=4.7;, score=-3620.057 total time=   0.0s\n",
      "[CV 3/5] END ..............model__alpha=4.7;, score=-2569.800 total time=   0.0s\n",
      "[CV 4/5] END ..............model__alpha=4.7;, score=-3481.210 total time=   0.0s\n",
      "[CV 5/5] END ..............model__alpha=4.7;, score=-3313.978 total time=   0.0s\n",
      "[CV 1/5] END ..............model__alpha=4.8;, score=-3259.974 total time=   0.0s\n",
      "[CV 2/5] END ..............model__alpha=4.8;, score=-3625.100 total time=   0.0s\n",
      "[CV 3/5] END ..............model__alpha=4.8;, score=-2571.457 total time=   0.0s\n",
      "[CV 4/5] END ..............model__alpha=4.8;, score=-3487.169 total time=   0.0s\n",
      "[CV 5/5] END ..............model__alpha=4.8;, score=-3313.095 total time=   0.0s\n",
      "[CV 1/5] END ..............model__alpha=4.9;, score=-3266.455 total time=   0.0s\n",
      "[CV 2/5] END ..............model__alpha=4.9;, score=-3630.207 total time=   0.0s\n",
      "[CV 3/5] END ..............model__alpha=4.9;, score=-2573.229 total time=   0.0s\n",
      "[CV 4/5] END ..............model__alpha=4.9;, score=-3493.254 total time=   0.0s\n",
      "[CV 5/5] END ..............model__alpha=4.9;, score=-3312.296 total time=   0.0s\n",
      "[CV 1/5] END ..............model__alpha=5.0;, score=-3273.026 total time=   0.0s\n",
      "[CV 2/5] END ..............model__alpha=5.0;, score=-3632.002 total time=   0.0s\n",
      "[CV 3/5] END ..............model__alpha=5.0;, score=-2575.117 total time=   0.0s\n",
      "[CV 4/5] END ..............model__alpha=5.0;, score=-3499.466 total time=   0.0s\n",
      "[CV 5/5] END ..............model__alpha=5.0;, score=-3311.580 total time=   0.0s\n",
      "[CV 1/5] END ..............model__alpha=5.1;, score=-3279.687 total time=   0.0s\n",
      "[CV 2/5] END ..............model__alpha=5.1;, score=-3630.709 total time=   0.0s\n",
      "[CV 3/5] END ..............model__alpha=5.1;, score=-2577.120 total time=   0.0s\n",
      "[CV 4/5] END ..............model__alpha=5.1;, score=-3505.804 total time=   0.0s\n",
      "[CV 5/5] END ..............model__alpha=5.1;, score=-3310.949 total time=   0.0s\n",
      "[CV 1/5] END ..............model__alpha=5.2;, score=-3286.437 total time=   0.0s\n",
      "[CV 2/5] END ..............model__alpha=5.2;, score=-3629.450 total time=   0.0s\n",
      "[CV 3/5] END ..............model__alpha=5.2;, score=-2579.238 total time=   0.0s\n",
      "[CV 4/5] END ..............model__alpha=5.2;, score=-3512.268 total time=   0.0s\n",
      "[CV 5/5] END ..............model__alpha=5.2;, score=-3310.401 total time=   0.0s\n",
      "[CV 1/5] END ..............model__alpha=5.3;, score=-3293.277 total time=   0.0s\n",
      "[CV 2/5] END ..............model__alpha=5.3;, score=-3628.225 total time=   0.0s\n",
      "[CV 3/5] END ..............model__alpha=5.3;, score=-2581.471 total time=   0.0s\n",
      "[CV 4/5] END ..............model__alpha=5.3;, score=-3518.859 total time=   0.0s\n",
      "[CV 5/5] END ..............model__alpha=5.3;, score=-3309.937 total time=   0.0s\n",
      "[CV 1/5] END ..............model__alpha=5.4;, score=-3300.206 total time=   0.0s\n",
      "[CV 2/5] END ..............model__alpha=5.4;, score=-3627.035 total time=   0.0s\n",
      "[CV 3/5] END ..............model__alpha=5.4;, score=-2583.820 total time=   0.0s\n",
      "[CV 4/5] END ..............model__alpha=5.4;, score=-3525.576 total time=   0.0s\n",
      "[CV 5/5] END ..............model__alpha=5.4;, score=-3309.556 total time=   0.0s\n",
      "[CV 1/5] END ..............model__alpha=5.5;, score=-3307.225 total time=   0.0s\n",
      "[CV 2/5] END ..............model__alpha=5.5;, score=-3625.879 total time=   0.0s\n",
      "[CV 3/5] END ..............model__alpha=5.5;, score=-2586.284 total time=   0.0s\n",
      "[CV 4/5] END ..............model__alpha=5.5;, score=-3532.420 total time=   0.0s\n",
      "[CV 5/5] END ..............model__alpha=5.5;, score=-3309.974 total time=   0.0s\n",
      "[CV 1/5] END ..............model__alpha=5.6;, score=-3314.334 total time=   0.0s\n",
      "[CV 2/5] END ..............model__alpha=5.6;, score=-3624.757 total time=   0.0s\n",
      "[CV 3/5] END ..............model__alpha=5.6;, score=-2588.863 total time=   0.0s\n",
      "[CV 4/5] END ..............model__alpha=5.6;, score=-3539.390 total time=   0.0s\n",
      "[CV 5/5] END ..............model__alpha=5.6;, score=-3310.566 total time=   0.0s\n",
      "[CV 1/5] END ..............model__alpha=5.7;, score=-3321.533 total time=   0.0s\n",
      "[CV 2/5] END ..............model__alpha=5.7;, score=-3623.670 total time=   0.0s\n",
      "[CV 3/5] END ..............model__alpha=5.7;, score=-2591.557 total time=   0.0s\n",
      "[CV 4/5] END ..............model__alpha=5.7;, score=-3546.486 total time=   0.0s\n",
      "[CV 5/5] END ..............model__alpha=5.7;, score=-3311.231 total time=   0.0s\n",
      "[CV 1/5] END ..............model__alpha=5.8;, score=-3328.821 total time=   0.0s\n",
      "[CV 2/5] END ..............model__alpha=5.8;, score=-3622.617 total time=   0.0s\n",
      "[CV 3/5] END ..............model__alpha=5.8;, score=-2594.367 total time=   0.0s\n",
      "[CV 4/5] END ..............model__alpha=5.8;, score=-3553.709 total time=   0.0s\n",
      "[CV 5/5] END ..............model__alpha=5.8;, score=-3311.970 total time=   0.0s\n",
      "[CV 1/5] END ..............model__alpha=5.9;, score=-3336.199 total time=   0.0s\n",
      "[CV 2/5] END ..............model__alpha=5.9;, score=-3621.599 total time=   0.0s\n",
      "[CV 3/5] END ..............model__alpha=5.9;, score=-2597.292 total time=   0.0s\n",
      "[CV 4/5] END ..............model__alpha=5.9;, score=-3561.058 total time=   0.0s\n",
      "[CV 5/5] END ..............model__alpha=5.9;, score=-3312.784 total time=   0.0s\n",
      "[CV 1/5] END ..............model__alpha=6.0;, score=-3343.666 total time=   0.0s\n",
      "[CV 2/5] END ..............model__alpha=6.0;, score=-3620.615 total time=   0.0s\n",
      "[CV 3/5] END ..............model__alpha=6.0;, score=-2600.332 total time=   0.0s\n",
      "[CV 4/5] END ..............model__alpha=6.0;, score=-3568.534 total time=   0.0s\n",
      "[CV 5/5] END ..............model__alpha=6.0;, score=-3313.671 total time=   0.0s\n",
      "[CV 1/5] END ..............model__alpha=6.1;, score=-3351.223 total time=   0.0s\n",
      "[CV 2/5] END ..............model__alpha=6.1;, score=-3619.665 total time=   0.0s\n",
      "[CV 3/5] END ..............model__alpha=6.1;, score=-2603.487 total time=   0.0s\n",
      "[CV 4/5] END ..............model__alpha=6.1;, score=-3576.136 total time=   0.0s\n",
      "[CV 5/5] END ..............model__alpha=6.1;, score=-3314.632 total time=   0.0s\n",
      "[CV 1/5] END ..............model__alpha=6.2;, score=-3358.870 total time=   0.0s\n",
      "[CV 2/5] END ..............model__alpha=6.2;, score=-3618.750 total time=   0.0s\n",
      "[CV 3/5] END ..............model__alpha=6.2;, score=-2606.757 total time=   0.0s\n",
      "[CV 4/5] END ..............model__alpha=6.2;, score=-3583.865 total time=   0.0s\n",
      "[CV 5/5] END ..............model__alpha=6.2;, score=-3315.667 total time=   0.0s\n",
      "[CV 1/5] END ..............model__alpha=6.3;, score=-3366.607 total time=   0.0s\n",
      "[CV 2/5] END ..............model__alpha=6.3;, score=-3617.869 total time=   0.0s\n",
      "[CV 3/5] END ..............model__alpha=6.3;, score=-2610.143 total time=   0.0s\n",
      "[CV 4/5] END ..............model__alpha=6.3;, score=-3591.719 total time=   0.0s\n",
      "[CV 5/5] END ..............model__alpha=6.3;, score=-3316.776 total time=   0.0s\n",
      "[CV 1/5] END ..............model__alpha=6.4;, score=-3374.433 total time=   0.0s\n",
      "[CV 2/5] END ..............model__alpha=6.4;, score=-3617.022 total time=   0.0s\n",
      "[CV 3/5] END ..............model__alpha=6.4;, score=-2614.967 total time=   0.0s\n",
      "[CV 4/5] END ..............model__alpha=6.4;, score=-3599.701 total time=   0.0s\n",
      "[CV 5/5] END ..............model__alpha=6.4;, score=-3317.959 total time=   0.0s\n",
      "[CV 1/5] END ..............model__alpha=6.5;, score=-3382.349 total time=   0.0s\n",
      "[CV 2/5] END ..............model__alpha=6.5;, score=-3616.210 total time=   0.0s\n",
      "[CV 3/5] END ..............model__alpha=6.5;, score=-2620.518 total time=   0.0s\n",
      "[CV 4/5] END ..............model__alpha=6.5;, score=-3607.809 total time=   0.0s\n",
      "[CV 5/5] END ..............model__alpha=6.5;, score=-3319.216 total time=   0.0s\n",
      "[CV 1/5] END ..............model__alpha=6.6;, score=-3390.354 total time=   0.0s\n",
      "[CV 2/5] END ..............model__alpha=6.6;, score=-3615.433 total time=   0.0s\n",
      "[CV 3/5] END ..............model__alpha=6.6;, score=-2626.184 total time=   0.0s\n",
      "[CV 4/5] END ..............model__alpha=6.6;, score=-3616.043 total time=   0.0s\n",
      "[CV 5/5] END ..............model__alpha=6.6;, score=-3320.547 total time=   0.0s\n",
      "[CV 1/5] END ..............model__alpha=6.7;, score=-3398.450 total time=   0.0s\n",
      "[CV 2/5] END ..............model__alpha=6.7;, score=-3614.689 total time=   0.0s\n",
      "[CV 3/5] END ..............model__alpha=6.7;, score=-2631.964 total time=   0.0s\n",
      "[CV 4/5] END ..............model__alpha=6.7;, score=-3624.418 total time=   0.0s\n",
      "[CV 5/5] END ..............model__alpha=6.7;, score=-3321.952 total time=   0.0s\n",
      "[CV 1/5] END ..............model__alpha=6.8;, score=-3403.534 total time=   0.0s\n",
      "[CV 2/5] END ..............model__alpha=6.8;, score=-3613.980 total time=   0.0s\n",
      "[CV 3/5] END ..............model__alpha=6.8;, score=-2637.859 total time=   0.0s\n",
      "[CV 4/5] END ..............model__alpha=6.8;, score=-3632.905 total time=   0.0s\n",
      "[CV 5/5] END ..............model__alpha=6.8;, score=-3323.431 total time=   0.0s\n",
      "[CV 1/5] END ..............model__alpha=6.9;, score=-3408.528 total time=   0.0s\n",
      "[CV 2/5] END ..............model__alpha=6.9;, score=-3613.306 total time=   0.0s\n",
      "[CV 3/5] END ..............model__alpha=6.9;, score=-2643.868 total time=   0.0s\n",
      "[CV 4/5] END ..............model__alpha=6.9;, score=-3641.519 total time=   0.0s\n",
      "[CV 5/5] END ..............model__alpha=6.9;, score=-3324.984 total time=   0.0s\n",
      "[CV 1/5] END ..............model__alpha=7.0;, score=-3413.553 total time=   0.0s\n",
      "[CV 2/5] END ..............model__alpha=7.0;, score=-3612.666 total time=   0.0s\n",
      "[CV 3/5] END ..............model__alpha=7.0;, score=-2649.992 total time=   0.0s\n",
      "[CV 4/5] END ..............model__alpha=7.0;, score=-3650.259 total time=   0.0s\n",
      "[CV 5/5] END ..............model__alpha=7.0;, score=-3326.611 total time=   0.0s\n",
      "[CV 1/5] END ..............model__alpha=7.1;, score=-3418.608 total time=   0.0s\n",
      "[CV 2/5] END ..............model__alpha=7.1;, score=-3612.060 total time=   0.0s\n",
      "[CV 3/5] END ..............model__alpha=7.1;, score=-2655.958 total time=   0.0s\n",
      "[CV 4/5] END ..............model__alpha=7.1;, score=-3656.930 total time=   0.0s\n",
      "[CV 5/5] END ..............model__alpha=7.1;, score=-3328.312 total time=   0.0s\n",
      "[CV 1/5] END ..............model__alpha=7.2;, score=-3423.693 total time=   0.0s\n",
      "[CV 2/5] END ..............model__alpha=7.2;, score=-3611.489 total time=   0.0s\n",
      "[CV 3/5] END ..............model__alpha=7.2;, score=-2659.542 total time=   0.0s\n",
      "[CV 4/5] END ..............model__alpha=7.2;, score=-3662.882 total time=   0.0s\n",
      "[CV 5/5] END ..............model__alpha=7.2;, score=-3330.086 total time=   0.0s\n",
      "[CV 1/5] END ..............model__alpha=7.3;, score=-3428.808 total time=   0.0s\n",
      "[CV 2/5] END ..............model__alpha=7.3;, score=-3610.952 total time=   0.0s\n",
      "[CV 3/5] END ..............model__alpha=7.3;, score=-2663.183 total time=   0.0s\n",
      "[CV 4/5] END ..............model__alpha=7.3;, score=-3668.875 total time=   0.0s\n",
      "[CV 5/5] END ..............model__alpha=7.3;, score=-3331.935 total time=   0.0s\n",
      "[CV 1/5] END ..............model__alpha=7.4;, score=-3433.952 total time=   0.0s\n",
      "[CV 2/5] END ..............model__alpha=7.4;, score=-3610.449 total time=   0.0s\n",
      "[CV 3/5] END ..............model__alpha=7.4;, score=-2666.881 total time=   0.0s\n",
      "[CV 4/5] END ..............model__alpha=7.4;, score=-3674.927 total time=   0.0s\n",
      "[CV 5/5] END ..............model__alpha=7.4;, score=-3333.858 total time=   0.0s\n",
      "[CV 1/5] END ..............model__alpha=7.5;, score=-3439.126 total time=   0.0s\n",
      "[CV 2/5] END ..............model__alpha=7.5;, score=-3609.981 total time=   0.0s\n",
      "[CV 3/5] END ..............model__alpha=7.5;, score=-2670.635 total time=   0.0s\n",
      "[CV 4/5] END ..............model__alpha=7.5;, score=-3681.039 total time=   0.0s\n",
      "[CV 5/5] END ..............model__alpha=7.5;, score=-3335.854 total time=   0.0s\n",
      "[CV 1/5] END ..............model__alpha=7.6;, score=-3444.329 total time=   0.0s\n",
      "[CV 2/5] END ..............model__alpha=7.6;, score=-3609.547 total time=   0.0s\n",
      "[CV 3/5] END ..............model__alpha=7.6;, score=-2674.446 total time=   0.0s\n",
      "[CV 4/5] END ..............model__alpha=7.6;, score=-3687.209 total time=   0.0s\n",
      "[CV 5/5] END ..............model__alpha=7.6;, score=-3337.925 total time=   0.0s\n",
      "[CV 1/5] END ..............model__alpha=7.7;, score=-3449.561 total time=   0.0s\n",
      "[CV 2/5] END ..............model__alpha=7.7;, score=-3609.148 total time=   0.0s\n",
      "[CV 3/5] END ..............model__alpha=7.7;, score=-2678.314 total time=   0.0s\n",
      "[CV 4/5] END ..............model__alpha=7.7;, score=-3693.439 total time=   0.0s\n",
      "[CV 5/5] END ..............model__alpha=7.7;, score=-3340.070 total time=   0.0s\n",
      "[CV 1/5] END ..............model__alpha=7.8;, score=-3454.822 total time=   0.0s\n",
      "[CV 2/5] END ..............model__alpha=7.8;, score=-3608.783 total time=   0.0s\n",
      "[CV 3/5] END ..............model__alpha=7.8;, score=-2682.238 total time=   0.0s\n",
      "[CV 4/5] END ..............model__alpha=7.8;, score=-3699.728 total time=   0.0s\n",
      "[CV 5/5] END ..............model__alpha=7.8;, score=-3342.288 total time=   0.0s\n",
      "[CV 1/5] END ..............model__alpha=7.9;, score=-3460.112 total time=   0.0s\n",
      "[CV 2/5] END ..............model__alpha=7.9;, score=-3608.452 total time=   0.0s\n",
      "[CV 3/5] END ..............model__alpha=7.9;, score=-2686.219 total time=   0.0s\n",
      "[CV 4/5] END ..............model__alpha=7.9;, score=-3706.076 total time=   0.0s\n",
      "[CV 5/5] END ..............model__alpha=7.9;, score=-3343.373 total time=   0.0s\n",
      "[CV 1/5] END ..............model__alpha=8.0;, score=-3465.432 total time=   0.0s\n",
      "[CV 2/5] END ..............model__alpha=8.0;, score=-3608.156 total time=   0.0s\n",
      "[CV 3/5] END ..............model__alpha=8.0;, score=-2690.257 total time=   0.0s\n",
      "[CV 4/5] END ..............model__alpha=8.0;, score=-3712.483 total time=   0.0s\n",
      "[CV 5/5] END ..............model__alpha=8.0;, score=-3344.270 total time=   0.0s\n",
      "[CV 1/5] END ..............model__alpha=8.1;, score=-3470.781 total time=   0.0s\n",
      "[CV 2/5] END ..............model__alpha=8.1;, score=-3607.894 total time=   0.0s\n",
      "[CV 3/5] END ..............model__alpha=8.1;, score=-2694.351 total time=   0.0s\n",
      "[CV 4/5] END ..............model__alpha=8.1;, score=-3718.949 total time=   0.0s\n",
      "[CV 5/5] END ..............model__alpha=8.1;, score=-3345.202 total time=   0.0s\n",
      "[CV 1/5] END ..............model__alpha=8.2;, score=-3476.193 total time=   0.0s\n",
      "[CV 2/5] END ..............model__alpha=8.2;, score=-3607.667 total time=   0.0s\n",
      "[CV 3/5] END ..............model__alpha=8.2;, score=-2698.502 total time=   0.0s\n",
      "[CV 4/5] END ..............model__alpha=8.2;, score=-3725.475 total time=   0.0s\n",
      "[CV 5/5] END ..............model__alpha=8.2;, score=-3346.166 total time=   0.0s\n",
      "[CV 1/5] END ..............model__alpha=8.3;, score=-3481.600 total time=   0.0s\n",
      "[CV 2/5] END ..............model__alpha=8.3;, score=-3607.474 total time=   0.0s\n",
      "[CV 3/5] END ..............model__alpha=8.3;, score=-2702.709 total time=   0.0s\n",
      "[CV 4/5] END ..............model__alpha=8.3;, score=-3732.059 total time=   0.0s\n",
      "[CV 5/5] END ..............model__alpha=8.3;, score=-3347.165 total time=   0.0s\n",
      "[CV 1/5] END ..............model__alpha=8.4;, score=-3487.037 total time=   0.0s\n",
      "[CV 2/5] END ..............model__alpha=8.4;, score=-3607.315 total time=   0.0s\n",
      "[CV 3/5] END ..............model__alpha=8.4;, score=-2706.973 total time=   0.0s\n",
      "[CV 4/5] END ..............model__alpha=8.4;, score=-3738.703 total time=   0.0s\n",
      "[CV 5/5] END ..............model__alpha=8.4;, score=-3348.199 total time=   0.0s\n",
      "[CV 1/5] END ..............model__alpha=8.5;, score=-3492.503 total time=   0.0s\n",
      "[CV 2/5] END ..............model__alpha=8.5;, score=-3607.191 total time=   0.0s\n",
      "[CV 3/5] END ..............model__alpha=8.5;, score=-2711.294 total time=   0.0s\n",
      "[CV 4/5] END ..............model__alpha=8.5;, score=-3745.405 total time=   0.0s\n",
      "[CV 5/5] END ..............model__alpha=8.5;, score=-3349.267 total time=   0.0s\n",
      "[CV 1/5] END ..............model__alpha=8.6;, score=-3497.998 total time=   0.0s\n",
      "[CV 2/5] END ..............model__alpha=8.6;, score=-3607.101 total time=   0.0s\n",
      "[CV 3/5] END ..............model__alpha=8.6;, score=-2715.671 total time=   0.0s\n",
      "[CV 4/5] END ..............model__alpha=8.6;, score=-3752.167 total time=   0.0s\n",
      "[CV 5/5] END ..............model__alpha=8.6;, score=-3350.370 total time=   0.0s\n",
      "[CV 1/5] END ..............model__alpha=8.7;, score=-3503.522 total time=   0.0s\n",
      "[CV 2/5] END ..............model__alpha=8.7;, score=-3607.046 total time=   0.0s\n",
      "[CV 3/5] END ..............model__alpha=8.7;, score=-2720.105 total time=   0.0s\n",
      "[CV 4/5] END ..............model__alpha=8.7;, score=-3758.988 total time=   0.0s\n",
      "[CV 5/5] END ..............model__alpha=8.7;, score=-3351.507 total time=   0.0s\n",
      "[CV 1/5] END ..............model__alpha=8.8;, score=-3509.076 total time=   0.0s\n",
      "[CV 2/5] END ..............model__alpha=8.8;, score=-3607.025 total time=   0.0s\n",
      "[CV 3/5] END ..............model__alpha=8.8;, score=-2724.596 total time=   0.0s\n",
      "[CV 4/5] END ..............model__alpha=8.8;, score=-3765.868 total time=   0.0s\n",
      "[CV 5/5] END ..............model__alpha=8.8;, score=-3352.680 total time=   0.0s\n",
      "[CV 1/5] END ..............model__alpha=8.9;, score=-3514.659 total time=   0.0s\n",
      "[CV 2/5] END ..............model__alpha=8.9;, score=-3607.038 total time=   0.0s\n",
      "[CV 3/5] END ..............model__alpha=8.9;, score=-2729.143 total time=   0.0s\n",
      "[CV 4/5] END ..............model__alpha=8.9;, score=-3772.807 total time=   0.0s\n",
      "[CV 5/5] END ..............model__alpha=8.9;, score=-3353.887 total time=   0.0s\n",
      "[CV 1/5] END ..............model__alpha=9.0;, score=-3520.271 total time=   0.0s\n",
      "[CV 2/5] END ..............model__alpha=9.0;, score=-3607.086 total time=   0.0s\n",
      "[CV 3/5] END ..............model__alpha=9.0;, score=-2733.747 total time=   0.0s\n",
      "[CV 4/5] END ..............model__alpha=9.0;, score=-3779.805 total time=   0.0s\n",
      "[CV 5/5] END ..............model__alpha=9.0;, score=-3355.129 total time=   0.0s\n",
      "[CV 1/5] END ..............model__alpha=9.1;, score=-3525.912 total time=   0.0s\n",
      "[CV 2/5] END ..............model__alpha=9.1;, score=-3607.168 total time=   0.0s\n",
      "[CV 3/5] END ..............model__alpha=9.1;, score=-2738.408 total time=   0.0s\n",
      "[CV 4/5] END ..............model__alpha=9.1;, score=-3786.863 total time=   0.0s\n",
      "[CV 5/5] END ..............model__alpha=9.1;, score=-3356.405 total time=   0.0s\n",
      "[CV 1/5] END ..............model__alpha=9.2;, score=-3531.582 total time=   0.0s\n",
      "[CV 2/5] END ..............model__alpha=9.2;, score=-3607.285 total time=   0.0s\n",
      "[CV 3/5] END ..............model__alpha=9.2;, score=-2743.125 total time=   0.0s\n",
      "[CV 4/5] END ..............model__alpha=9.2;, score=-3793.979 total time=   0.0s\n",
      "[CV 5/5] END ..............model__alpha=9.2;, score=-3357.716 total time=   0.0s\n",
      "[CV 1/5] END ..............model__alpha=9.3;, score=-3537.282 total time=   0.0s\n",
      "[CV 2/5] END ..............model__alpha=9.3;, score=-3607.436 total time=   0.0s\n",
      "[CV 3/5] END ..............model__alpha=9.3;, score=-2747.899 total time=   0.0s\n",
      "[CV 4/5] END ..............model__alpha=9.3;, score=-3801.154 total time=   0.0s\n",
      "[CV 5/5] END ..............model__alpha=9.3;, score=-3359.062 total time=   0.0s\n",
      "[CV 1/5] END ..............model__alpha=9.4;, score=-3543.011 total time=   0.0s\n",
      "[CV 2/5] END ..............model__alpha=9.4;, score=-3607.621 total time=   0.0s\n",
      "[CV 3/5] END ..............model__alpha=9.4;, score=-2752.729 total time=   0.0s\n",
      "[CV 4/5] END ..............model__alpha=9.4;, score=-3808.389 total time=   0.0s\n",
      "[CV 5/5] END ..............model__alpha=9.4;, score=-3360.443 total time=   0.0s\n",
      "[CV 1/5] END ..............model__alpha=9.5;, score=-3548.769 total time=   0.0s\n",
      "[CV 2/5] END ..............model__alpha=9.5;, score=-3607.841 total time=   0.0s\n",
      "[CV 3/5] END ..............model__alpha=9.5;, score=-2757.616 total time=   0.0s\n",
      "[CV 4/5] END ..............model__alpha=9.5;, score=-3815.683 total time=   0.0s\n",
      "[CV 5/5] END ..............model__alpha=9.5;, score=-3361.859 total time=   0.0s\n",
      "[CV 1/5] END ..............model__alpha=9.6;, score=-3554.557 total time=   0.0s\n",
      "[CV 2/5] END ..............model__alpha=9.6;, score=-3608.095 total time=   0.0s\n",
      "[CV 3/5] END ..............model__alpha=9.6;, score=-2762.560 total time=   0.0s\n",
      "[CV 4/5] END ..............model__alpha=9.6;, score=-3823.035 total time=   0.0s\n",
      "[CV 5/5] END ..............model__alpha=9.6;, score=-3363.309 total time=   0.0s\n",
      "[CV 1/5] END model__alpha=9.700000000000001;, score=-3560.374 total time=   0.0s\n",
      "[CV 2/5] END model__alpha=9.700000000000001;, score=-3608.384 total time=   0.0s\n",
      "[CV 3/5] END model__alpha=9.700000000000001;, score=-2767.561 total time=   0.0s\n",
      "[CV 4/5] END model__alpha=9.700000000000001;, score=-3830.447 total time=   0.0s\n",
      "[CV 5/5] END model__alpha=9.700000000000001;, score=-3364.794 total time=   0.0s\n",
      "[CV 1/5] END ..............model__alpha=9.8;, score=-3566.220 total time=   0.0s\n",
      "[CV 2/5] END ..............model__alpha=9.8;, score=-3608.707 total time=   0.0s\n",
      "[CV 3/5] END ..............model__alpha=9.8;, score=-2772.618 total time=   0.0s\n",
      "[CV 4/5] END ..............model__alpha=9.8;, score=-3837.918 total time=   0.0s\n",
      "[CV 5/5] END ..............model__alpha=9.8;, score=-3366.313 total time=   0.0s\n",
      "[CV 1/5] END ..............model__alpha=9.9;, score=-3572.095 total time=   0.0s\n",
      "[CV 2/5] END ..............model__alpha=9.9;, score=-3609.064 total time=   0.0s\n",
      "[CV 3/5] END ..............model__alpha=9.9;, score=-2777.731 total time=   0.0s\n",
      "[CV 4/5] END ..............model__alpha=9.9;, score=-3845.449 total time=   0.0s\n",
      "[CV 5/5] END ..............model__alpha=9.9;, score=-3367.868 total time=   0.0s\n"
     ]
    },
    {
     "data": {
      "text/plain": [
       "GridSearchCV(cv=5,\n",
       "             estimator=Pipeline(steps=[('scaler', StandardScaler()),\n",
       "                                       ('model', Lasso())]),\n",
       "             param_grid={'model__alpha': array([0.1, 0.2, 0.3, 0.4, 0.5, 0.6, 0.7, 0.8, 0.9, 1. , 1.1, 1.2, 1.3,\n",
       "       1.4, 1.5, 1.6, 1.7, 1.8, 1.9, 2. , 2.1, 2.2, 2.3, 2.4, 2.5, 2.6,\n",
       "       2.7, 2.8, 2.9, 3. , 3.1, 3.2, 3.3, 3.4, 3.5, 3.6, 3.7, 3.8, 3.9,\n",
       "       4. , 4.1, 4.2, 4.3, 4.4, 4.5, 4.6, 4.7, 4.8, 4.9, 5. , 5.1, 5.2,\n",
       "       5.3, 5.4, 5.5, 5.6, 5.7, 5.8, 5.9, 6. , 6.1, 6.2, 6.3, 6.4, 6.5,\n",
       "       6.6, 6.7, 6.8, 6.9, 7. , 7.1, 7.2, 7.3, 7.4, 7.5, 7.6, 7.7, 7.8,\n",
       "       7.9, 8. , 8.1, 8.2, 8.3, 8.4, 8.5, 8.6, 8.7, 8.8, 8.9, 9. , 9.1,\n",
       "       9.2, 9.3, 9.4, 9.5, 9.6, 9.7, 9.8, 9.9])},\n",
       "             scoring='neg_mean_squared_error', verbose=3)"
      ]
     },
     "execution_count": 56,
     "metadata": {},
     "output_type": "execute_result"
    }
   ],
   "source": [
    "search.fit(X_train,y_train)\n"
   ]
  },
  {
   "cell_type": "code",
   "execution_count": 57,
   "metadata": {
    "scrolled": true
   },
   "outputs": [
    {
     "name": "stdout",
     "output_type": "stream",
     "text": [
      "[  0.15096441  -9.00511695  26.90181607  18.04877039  -5.41870204\n",
      "  -0.         -12.27908758   0.          19.4892079    0.        ]\n"
     ]
    }
   ],
   "source": [
    "coefficients = search.best_estimator_.named_steps['model'].coef_\n",
    "print(coefficients) # coeff가 0이 된 것이 3개가 있음을 볼 수 있음."
   ]
  },
  {
   "cell_type": "markdown",
   "metadata": {},
   "source": [
    "### linear regression을 그냥 그려보면 coefficient가 사라진 변수가 없음"
   ]
  },
  {
   "cell_type": "code",
   "execution_count": 59,
   "metadata": {},
   "outputs": [],
   "source": [
    "pipeline2 = Pipeline([\n",
    "                     ('scaler',StandardScaler()),\n",
    "                     ('model',LinearRegression())\n",
    "])\n",
    "\n"
   ]
  },
  {
   "cell_type": "code",
   "execution_count": 63,
   "metadata": {},
   "outputs": [
    {
     "name": "stdout",
     "output_type": "stream",
     "text": [
      "[  1.48308212 -11.55187312  26.6268292   19.59539638 -34.2702909\n",
      "  18.83607682   0.49564744   8.19146562  29.91141711  -1.01089504]\n"
     ]
    }
   ],
   "source": [
    "pipeline2.fit(X_train,y_train)\n",
    "coefficients2 = pipeline2['model'].coef_\n",
    "print(coefficients2)\n"
   ]
  }
 ],
 "metadata": {
  "colab": {
   "collapsed_sections": [],
   "name": "FinTech_Ch3_Classification.ipynb의 사본의 사본",
   "provenance": []
  },
  "kernelspec": {
   "display_name": "torch1.9",
   "language": "python",
   "name": "pytorch"
  }
 },
 "nbformat": 4,
 "nbformat_minor": 1
}
